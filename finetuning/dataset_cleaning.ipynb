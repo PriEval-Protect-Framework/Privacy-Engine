{
 "cells": [
  {
   "cell_type": "code",
   "execution_count": 55,
   "metadata": {},
   "outputs": [],
   "source": [
    "import pandas as pd\n",
    "import ast\n"
   ]
  },
  {
   "cell_type": "code",
   "execution_count": 56,
   "metadata": {},
   "outputs": [],
   "source": [
    "df1= pd.read_csv('../data/fine_tuning/gdpr_compliance.csv')\n",
    "df2= pd.read_csv('../data/fine_tuning/gdpr_violations.csv')"
   ]
  },
  {
   "cell_type": "markdown",
   "metadata": {},
   "source": [
    "# Dataset 1: GDPR Compliance cleaning"
   ]
  },
  {
   "cell_type": "code",
   "execution_count": 57,
   "metadata": {},
   "outputs": [
    {
     "data": {
      "text/html": [
       "<div>\n",
       "<style scoped>\n",
       "    .dataframe tbody tr th:only-of-type {\n",
       "        vertical-align: middle;\n",
       "    }\n",
       "\n",
       "    .dataframe tbody tr th {\n",
       "        vertical-align: top;\n",
       "    }\n",
       "\n",
       "    .dataframe thead th {\n",
       "        text-align: right;\n",
       "    }\n",
       "</style>\n",
       "<table border=\"1\" class=\"dataframe\">\n",
       "  <thead>\n",
       "    <tr style=\"text-align: right;\">\n",
       "      <th></th>\n",
       "      <th>id</th>\n",
       "      <th>source</th>\n",
       "      <th>text_segment</th>\n",
       "      <th>tags</th>\n",
       "    </tr>\n",
       "  </thead>\n",
       "  <tbody>\n",
       "    <tr>\n",
       "      <th>0</th>\n",
       "      <td>1</td>\n",
       "      <td>foodnetwork.com</td>\n",
       "      <td>We may provide our analysis and certain non-pe...</td>\n",
       "      <td>['Data Recipients']</td>\n",
       "    </tr>\n",
       "    <tr>\n",
       "      <th>1</th>\n",
       "      <td>2</td>\n",
       "      <td>msn.com</td>\n",
       "      <td>We use Secure Socket Layer (SSL) technology to...</td>\n",
       "      <td>['Safeguards Copy']</td>\n",
       "    </tr>\n",
       "    <tr>\n",
       "      <th>2</th>\n",
       "      <td>3</td>\n",
       "      <td>msn.com</td>\n",
       "      <td>We incorporate standard industry practices sui...</td>\n",
       "      <td>['Safeguards Copy']</td>\n",
       "    </tr>\n",
       "    <tr>\n",
       "      <th>3</th>\n",
       "      <td>4</td>\n",
       "      <td>msn.com</td>\n",
       "      <td>We limit access to personal data only to those...</td>\n",
       "      <td>['Safeguards Copy']</td>\n",
       "    </tr>\n",
       "    <tr>\n",
       "      <th>4</th>\n",
       "      <td>5</td>\n",
       "      <td>msn.com</td>\n",
       "      <td>We store data on multiple service systems, in ...</td>\n",
       "      <td>['Safeguards Copy']</td>\n",
       "    </tr>\n",
       "  </tbody>\n",
       "</table>\n",
       "</div>"
      ],
      "text/plain": [
       "   id           source                                       text_segment  \\\n",
       "0   1  foodnetwork.com  We may provide our analysis and certain non-pe...   \n",
       "1   2          msn.com  We use Secure Socket Layer (SSL) technology to...   \n",
       "2   3          msn.com  We incorporate standard industry practices sui...   \n",
       "3   4          msn.com  We limit access to personal data only to those...   \n",
       "4   5          msn.com  We store data on multiple service systems, in ...   \n",
       "\n",
       "                  tags  \n",
       "0  ['Data Recipients']  \n",
       "1  ['Safeguards Copy']  \n",
       "2  ['Safeguards Copy']  \n",
       "3  ['Safeguards Copy']  \n",
       "4  ['Safeguards Copy']  "
      ]
     },
     "execution_count": 57,
     "metadata": {},
     "output_type": "execute_result"
    }
   ],
   "source": [
    "df1.head()"
   ]
  },
  {
   "cell_type": "code",
   "execution_count": 58,
   "metadata": {},
   "outputs": [
    {
     "name": "stdout",
     "output_type": "stream",
     "text": [
      "<class 'pandas.core.frame.DataFrame'>\n",
      "RangeIndex: 10511 entries, 0 to 10510\n",
      "Data columns (total 4 columns):\n",
      " #   Column        Non-Null Count  Dtype \n",
      "---  ------        --------------  ----- \n",
      " 0   id            10511 non-null  int64 \n",
      " 1   source        10511 non-null  object\n",
      " 2   text_segment  10511 non-null  object\n",
      " 3   tags          10511 non-null  object\n",
      "dtypes: int64(1), object(3)\n",
      "memory usage: 328.6+ KB\n"
     ]
    }
   ],
   "source": [
    "df1.info()"
   ]
  },
  {
   "cell_type": "code",
   "execution_count": 59,
   "metadata": {},
   "outputs": [],
   "source": [
    "df1= df1[['text_segment','tags']]"
   ]
  },
  {
   "cell_type": "code",
   "execution_count": 60,
   "metadata": {},
   "outputs": [
    {
     "data": {
      "text/plain": [
       "count                      10511\n",
       "unique                        99\n",
       "top       ['Processing Purpose']\n",
       "freq                        1692\n",
       "Name: tags, dtype: object"
      ]
     },
     "execution_count": 60,
     "metadata": {},
     "output_type": "execute_result"
    }
   ],
   "source": [
    "df1['tags'].describe()"
   ]
  },
  {
   "cell_type": "code",
   "execution_count": 61,
   "metadata": {},
   "outputs": [
    {
     "data": {
      "text/plain": [
       "array([\"['Data Recipients']\", \"['Safeguards Copy']\",\n",
       "       \"['Processing Purpose']\", \"['Data Categories']\",\n",
       "       \"['Source of Data']\", \"['Right to Erase']\",\n",
       "       \"['Right to Restrict']\", \"['Right to Access']\",\n",
       "       \"['Right to Object']\", \"['Withdraw Consent']\",\n",
       "       \"['Right to Portability']\", \"['Profiling']\",\n",
       "       \"['Processing Purpose', 'Data Categories']\",\n",
       "       \"['Data Recipients', 'Processing Purpose']\",\n",
       "       \"['Controller Contact']\", \"['Right to Object', 'Profiling']\",\n",
       "       \"['Right to Access', 'Right to Erase']\",\n",
       "       \"['Right to Restrict', 'Right to Access']\",\n",
       "       \"['Processing Purpose', 'Data Recipients', 'Profiling']\",\n",
       "       \"['Provision Requirement']\", \"['Data Categories', 'Profiling']\",\n",
       "       \"['Data Categories', 'Source of Data']\",\n",
       "       \"['Data Recipients', 'Profiling']\",\n",
       "       \"['Controller Contact', 'Right to Access']\", \"['Storage Period']\",\n",
       "       \"['Lodge Complaint']\", \"['Processing Purpose', 'Source of Data']\",\n",
       "       \"['Processing Purpose', 'Storage Period']\",\n",
       "       \"['Right to Erase', 'Withdraw Consent']\",\n",
       "       \"['Right to Erase', 'Right to Object']\",\n",
       "       \"['Right to Access', 'Right to Erase', 'Right to Object']\",\n",
       "       \"['Right to Access', 'Right to Portability']\", \"['DPO Contact']\",\n",
       "       \"['Controller Contact', 'Right to Restrict', 'Withdraw Consent']\",\n",
       "       \"['Processing Purpose', 'Data Categories', 'Source of Data']\",\n",
       "       \"['Controller Contact', 'Right to Restrict']\",\n",
       "       \"['Right to Access', 'Right to Erase', 'Right to Restrict']\",\n",
       "       \"['Processing Purpose', 'Profiling']\",\n",
       "       \"['Processing Purpose', 'Data Categories', 'Profiling']\",\n",
       "       \"['Data Recipients', 'Safeguards Copy']\",\n",
       "       \"['Controller Contact', 'Right to Restrict', 'Right to Object']\",\n",
       "       \"['Adequacy Decision']\",\n",
       "       \"['Processing Purpose', 'Right to Object']\",\n",
       "       \"['Controller Contact', 'Right to Access', 'Right to Erase']\",\n",
       "       \"['Right to Access', 'Right to Restrict']\",\n",
       "       \"['Data Recipients', 'Provision Requirement']\",\n",
       "       \"['Profiling', 'Source of Data']\",\n",
       "       \"['Right to Restrict', 'Right to Object', 'Withdraw Consent']\",\n",
       "       \"['Right to Object', 'Provision Requirement']\",\n",
       "       \"['Adequacy Decision', 'Right to Access', 'Right to Erase', 'Right to Portability']\",\n",
       "       \"['DPO Contact', 'Lodge Complaint']\",\n",
       "       \"['Controller Contact', 'DPO Contact']\",\n",
       "       \"['Controller Contact', 'Right to Erase']\",\n",
       "       \"['Data Categories', 'Data Recipients', 'Source of Data']\",\n",
       "       \"['Processing Purpose', 'Data Categories', 'Right to Object', 'Profiling', 'Source of Data']\",\n",
       "       \"['Processing Purpose', 'Right to Access', 'Right to Erase', 'Right to Object']\",\n",
       "       \"['Processing Purpose', 'Right to Erase', 'Right to Object']\",\n",
       "       \"['Right to Object', 'Source of Data']\",\n",
       "       \"['Data Categories', 'Right to Object']\",\n",
       "       \"['Processing Purpose', 'Right to Object', 'Source of Data']\",\n",
       "       \"['Right to Access', 'Right to Object']\",\n",
       "       \"['Processing Purpose', 'Data Recipients']\",\n",
       "       \"['Processing Purpose', 'Data Categories', 'Provision Requirement', 'Source of Data']\",\n",
       "       \"['Processing Purpose', 'Data Recipients', 'Right to Access', 'Right to Object', 'Source of Data']\",\n",
       "       \"['Processing Purpose', 'Data Categories', 'Data Recipients', 'Source of Data']\",\n",
       "       \"['Processing Purpose', 'Data Categories', 'Safeguards Copy', 'Right to Object', 'Profiling', 'Source of Data']\",\n",
       "       \"['Processing Purpose', 'Profiling', 'Source of Data']\",\n",
       "       \"['Right to Erase', 'Right to Object', 'Profiling']\",\n",
       "       \"['Data Recipients', 'Right to Restrict']\",\n",
       "       \"['Processing Purpose', 'Safeguards Copy']\",\n",
       "       \"['Right to Restrict', 'Right to Object']\",\n",
       "       \"['Data Recipients', 'Right to Object', 'Source of Data']\",\n",
       "       \"['Data Categories', 'Provision Requirement', 'Source of Data']\",\n",
       "       \"['Processing Purpose', 'Right to Restrict', 'Provision Requirement']\",\n",
       "       \"['Right to Restrict', 'Provision Requirement']\",\n",
       "       \"['Provision Requirement', 'Source of Data']\",\n",
       "       \"['Processing Purpose', 'Right to Restrict']\",\n",
       "       \"['Processing Purpose', 'Right to Restrict', 'Right to Object']\",\n",
       "       \"['Right to Restrict', 'Source of Data']\",\n",
       "       \"['Right to Access', 'Right to Erase', 'Right to Portability']\",\n",
       "       \"['Storage Period', 'Right to Access', 'Right to Erase']\",\n",
       "       \"['Processing Purpose', 'Data Categories', 'Right to Restrict']\",\n",
       "       \"['Processing Purpose', 'Right to Erase', 'Right to Restrict']\",\n",
       "       \"['Safeguards Copy', 'Profiling']\",\n",
       "       \"['DPO Contact', 'Right to Object']\",\n",
       "       \"['Right to Erase', 'Right to Restrict', 'Right to Object']\",\n",
       "       \"['Right to Object', 'Withdraw Consent']\",\n",
       "       \"['Processing Purpose', 'Provision Requirement']\",\n",
       "       \"['Controller Contact', 'Lodge Complaint']\",\n",
       "       \"['Processing Purpose', 'Data Categories', 'Safeguards Copy', 'Provision Requirement', 'Source of Data']\",\n",
       "       \"['Data Categories', 'Right to Restrict']\",\n",
       "       \"['Right to Access', 'Right to Erase', 'Withdraw Consent']\",\n",
       "       \"['Processing Purpose', 'Data Categories', 'Right to Object', 'Provision Requirement']\",\n",
       "       \"['Processing Purpose', 'Data Categories', 'Profiling', 'Source of Data']\",\n",
       "       \"['Processing Purpose', 'Data Categories', 'Right to Restrict', 'Provision Requirement']\",\n",
       "       \"['Data Categories', 'Storage Period']\",\n",
       "       \"['DPO Contact', 'Right to Access', 'Right to Erase']\",\n",
       "       \"['Right to Access', 'Right to Restrict', 'Right to Object', 'Right to Portability', 'Withdraw Consent', 'Lodge Complaint']\",\n",
       "       \"['Data Recipients', 'Source of Data']\"], dtype=object)"
      ]
     },
     "execution_count": 61,
     "metadata": {},
     "output_type": "execute_result"
    }
   ],
   "source": [
    "df1['tags'].unique()"
   ]
  },
  {
   "cell_type": "code",
   "execution_count": 62,
   "metadata": {},
   "outputs": [
    {
     "name": "stdout",
     "output_type": "stream",
     "text": [
      "{'Withdraw Consent', 'Safeguards Copy', 'Profiling', 'Right to Restrict', 'Right to Access', 'Controller Contact', 'Lodge Complaint', 'Data Recipients', 'DPO Contact', 'Processing Purpose', 'Right to Portability', 'Storage Period', 'Right to Erase', 'Right to Object', 'Data Categories', 'Source of Data', 'Provision Requirement', 'Adequacy Decision'}\n"
     ]
    }
   ],
   "source": [
    "\n",
    "tags_set = set()\n",
    "\n",
    "for i in df1['tags']:\n",
    "    try:\n",
    "        tag_list = ast.literal_eval(i)\n",
    "        # Iterate over the extracted list of tags\n",
    "        for tag in tag_list:\n",
    "            tags_set.add(tag.strip())\n",
    "    except (SyntaxError, ValueError):\n",
    "        print(f\"Skipping invalid entry: {i}\")\n",
    "\n",
    "print(tags_set)\n"
   ]
  },
  {
   "cell_type": "code",
   "execution_count": 63,
   "metadata": {},
   "outputs": [
    {
     "data": {
      "text/plain": [
       "{'Adequacy Decision',\n",
       " 'Controller Contact',\n",
       " 'DPO Contact',\n",
       " 'Data Categories',\n",
       " 'Data Recipients',\n",
       " 'Lodge Complaint',\n",
       " 'Processing Purpose',\n",
       " 'Profiling',\n",
       " 'Provision Requirement',\n",
       " 'Right to Access',\n",
       " 'Right to Erase',\n",
       " 'Right to Object',\n",
       " 'Right to Portability',\n",
       " 'Right to Restrict',\n",
       " 'Safeguards Copy',\n",
       " 'Source of Data',\n",
       " 'Storage Period',\n",
       " 'Withdraw Consent'}"
      ]
     },
     "execution_count": 63,
     "metadata": {},
     "output_type": "execute_result"
    }
   ],
   "source": [
    "tags_set"
   ]
  },
  {
   "cell_type": "markdown",
   "metadata": {},
   "source": [
    "**map each tag with an article number and title**"
   ]
  },
  {
   "cell_type": "code",
   "execution_count": 64,
   "metadata": {},
   "outputs": [],
   "source": [
    "articles = {\n",
    "    'Adequacy Decision': 'Article 45 - Transfers on the basis of an adequacy decision',\n",
    "    'Controller Contact': 'Article 13 - Information to be provided where personal data are collected from the data subject',\n",
    "    'DPO Contact': 'Article 37 - Designation of the data protection officer',\n",
    "    'Data Categories': 'Article 9 - Processing of special categories of personal data',\n",
    "    'Data Recipients': 'Article 13 - Information to be provided where personal data are collected from the data subject',\n",
    "    'Lodge Complaint': 'Article 77 - Right to lodge a complaint with a supervisory authority',\n",
    "    'Processing Purpose': 'Article 5 - Principles relating to processing of personal data',\n",
    "    'Profiling': 'Article 22 - Automated individual decision-making, including profiling',\n",
    "    'Provision Requirement': 'Article 13 - Information to be provided where personal data are collected from the data subject',\n",
    "    'Right to Access': 'Article 15 - Right of access by the data subject',\n",
    "    'Right to Erase': 'Article 17 - Right to erasure (right to be forgotten)',\n",
    "    'Right to Object': 'Article 21 - Right to object',\n",
    "    'Right to Portability': 'Article 20 - Right to data portability',\n",
    "    'Right to Restrict': 'Article 18 - Right to restriction of processing',\n",
    "    'Safeguards Copy': 'Article 46 - Transfers subject to appropriate safeguards',\n",
    "    'Source of Data': 'Article 14 - Information to be provided where personal data have not been obtained from the data subject',\n",
    "    'Storage Period': 'Article 5 - Principles relating to processing of personal data',\n",
    "    'Withdraw Consent': 'Article 7 - Conditions for consent'\n",
    "}\n"
   ]
  },
  {
   "cell_type": "code",
   "execution_count": 65,
   "metadata": {},
   "outputs": [],
   "source": [
    "def map_tags_to_articles(tags_str, articles):\n",
    "    try:\n",
    "        # Convert the string representation of a list to an actual list\n",
    "        tags_list = ast.literal_eval(tags_str)\n",
    "        mapped_tags = []\n",
    "\n",
    "        for tag in tags_list:\n",
    "            # Check if the tag exists in the articles dictionary\n",
    "            if tag in articles:\n",
    "                mapped_tags.append(f\"{articles[tag]} \")\n",
    "            else:\n",
    "                mapped_tags.append(f\"{tag}: Unknown Article\")\n",
    "        \n",
    "        # Join the mapped tags into a single string separated by commas\n",
    "        return \", \".join(mapped_tags)\n",
    "    except (SyntaxError, ValueError):\n",
    "        return \"Invalid tags format\"\n"
   ]
  },
  {
   "cell_type": "code",
   "execution_count": 66,
   "metadata": {},
   "outputs": [],
   "source": [
    "df1['tags'] = df1['tags'].apply(lambda x: map_tags_to_articles(x, articles))\n"
   ]
  },
  {
   "cell_type": "code",
   "execution_count": 67,
   "metadata": {},
   "outputs": [
    {
     "data": {
      "text/html": [
       "<div>\n",
       "<style scoped>\n",
       "    .dataframe tbody tr th:only-of-type {\n",
       "        vertical-align: middle;\n",
       "    }\n",
       "\n",
       "    .dataframe tbody tr th {\n",
       "        vertical-align: top;\n",
       "    }\n",
       "\n",
       "    .dataframe thead th {\n",
       "        text-align: right;\n",
       "    }\n",
       "</style>\n",
       "<table border=\"1\" class=\"dataframe\">\n",
       "  <thead>\n",
       "    <tr style=\"text-align: right;\">\n",
       "      <th></th>\n",
       "      <th>text_segment</th>\n",
       "      <th>tags</th>\n",
       "    </tr>\n",
       "  </thead>\n",
       "  <tbody>\n",
       "    <tr>\n",
       "      <th>0</th>\n",
       "      <td>We may provide our analysis and certain non-pe...</td>\n",
       "      <td>Article 13 - Information to be provided where ...</td>\n",
       "    </tr>\n",
       "    <tr>\n",
       "      <th>1</th>\n",
       "      <td>We use Secure Socket Layer (SSL) technology to...</td>\n",
       "      <td>Article 46 - Transfers subject to appropriate ...</td>\n",
       "    </tr>\n",
       "    <tr>\n",
       "      <th>2</th>\n",
       "      <td>We incorporate standard industry practices sui...</td>\n",
       "      <td>Article 46 - Transfers subject to appropriate ...</td>\n",
       "    </tr>\n",
       "    <tr>\n",
       "      <th>3</th>\n",
       "      <td>We limit access to personal data only to those...</td>\n",
       "      <td>Article 46 - Transfers subject to appropriate ...</td>\n",
       "    </tr>\n",
       "    <tr>\n",
       "      <th>4</th>\n",
       "      <td>We store data on multiple service systems, in ...</td>\n",
       "      <td>Article 46 - Transfers subject to appropriate ...</td>\n",
       "    </tr>\n",
       "  </tbody>\n",
       "</table>\n",
       "</div>"
      ],
      "text/plain": [
       "                                        text_segment  \\\n",
       "0  We may provide our analysis and certain non-pe...   \n",
       "1  We use Secure Socket Layer (SSL) technology to...   \n",
       "2  We incorporate standard industry practices sui...   \n",
       "3  We limit access to personal data only to those...   \n",
       "4  We store data on multiple service systems, in ...   \n",
       "\n",
       "                                                tags  \n",
       "0  Article 13 - Information to be provided where ...  \n",
       "1  Article 46 - Transfers subject to appropriate ...  \n",
       "2  Article 46 - Transfers subject to appropriate ...  \n",
       "3  Article 46 - Transfers subject to appropriate ...  \n",
       "4  Article 46 - Transfers subject to appropriate ...  "
      ]
     },
     "execution_count": 67,
     "metadata": {},
     "output_type": "execute_result"
    }
   ],
   "source": [
    "df1.head()"
   ]
  },
  {
   "cell_type": "code",
   "execution_count": 68,
   "metadata": {},
   "outputs": [
    {
     "data": {
      "text/plain": [
       "array(['Article 13 - Information to be provided where personal data are collected from the data subject ',\n",
       "       'Article 46 - Transfers subject to appropriate safeguards ',\n",
       "       'Article 5 - Principles relating to processing of personal data ',\n",
       "       'Article 9 - Processing of special categories of personal data ',\n",
       "       'Article 14 - Information to be provided where personal data have not been obtained from the data subject ',\n",
       "       'Article 17 - Right to erasure (right to be forgotten) ',\n",
       "       'Article 18 - Right to restriction of processing ',\n",
       "       'Article 15 - Right of access by the data subject ',\n",
       "       'Article 21 - Right to object ',\n",
       "       'Article 7 - Conditions for consent ',\n",
       "       'Article 20 - Right to data portability ',\n",
       "       'Article 22 - Automated individual decision-making, including profiling ',\n",
       "       'Article 5 - Principles relating to processing of personal data , Article 9 - Processing of special categories of personal data ',\n",
       "       'Article 13 - Information to be provided where personal data are collected from the data subject , Article 5 - Principles relating to processing of personal data ',\n",
       "       'Article 21 - Right to object , Article 22 - Automated individual decision-making, including profiling ',\n",
       "       'Article 15 - Right of access by the data subject , Article 17 - Right to erasure (right to be forgotten) ',\n",
       "       'Article 18 - Right to restriction of processing , Article 15 - Right of access by the data subject ',\n",
       "       'Article 5 - Principles relating to processing of personal data , Article 13 - Information to be provided where personal data are collected from the data subject , Article 22 - Automated individual decision-making, including profiling ',\n",
       "       'Article 9 - Processing of special categories of personal data , Article 22 - Automated individual decision-making, including profiling ',\n",
       "       'Article 9 - Processing of special categories of personal data , Article 14 - Information to be provided where personal data have not been obtained from the data subject ',\n",
       "       'Article 13 - Information to be provided where personal data are collected from the data subject , Article 22 - Automated individual decision-making, including profiling ',\n",
       "       'Article 13 - Information to be provided where personal data are collected from the data subject , Article 15 - Right of access by the data subject ',\n",
       "       'Article 77 - Right to lodge a complaint with a supervisory authority ',\n",
       "       'Article 5 - Principles relating to processing of personal data , Article 14 - Information to be provided where personal data have not been obtained from the data subject ',\n",
       "       'Article 5 - Principles relating to processing of personal data , Article 5 - Principles relating to processing of personal data ',\n",
       "       'Article 17 - Right to erasure (right to be forgotten) , Article 7 - Conditions for consent ',\n",
       "       'Article 17 - Right to erasure (right to be forgotten) , Article 21 - Right to object ',\n",
       "       'Article 15 - Right of access by the data subject , Article 17 - Right to erasure (right to be forgotten) , Article 21 - Right to object ',\n",
       "       'Article 15 - Right of access by the data subject , Article 20 - Right to data portability ',\n",
       "       'Article 37 - Designation of the data protection officer ',\n",
       "       'Article 13 - Information to be provided where personal data are collected from the data subject , Article 18 - Right to restriction of processing , Article 7 - Conditions for consent ',\n",
       "       'Article 5 - Principles relating to processing of personal data , Article 9 - Processing of special categories of personal data , Article 14 - Information to be provided where personal data have not been obtained from the data subject ',\n",
       "       'Article 13 - Information to be provided where personal data are collected from the data subject , Article 18 - Right to restriction of processing ',\n",
       "       'Article 15 - Right of access by the data subject , Article 17 - Right to erasure (right to be forgotten) , Article 18 - Right to restriction of processing ',\n",
       "       'Article 5 - Principles relating to processing of personal data , Article 22 - Automated individual decision-making, including profiling ',\n",
       "       'Article 5 - Principles relating to processing of personal data , Article 9 - Processing of special categories of personal data , Article 22 - Automated individual decision-making, including profiling ',\n",
       "       'Article 13 - Information to be provided where personal data are collected from the data subject , Article 46 - Transfers subject to appropriate safeguards ',\n",
       "       'Article 13 - Information to be provided where personal data are collected from the data subject , Article 18 - Right to restriction of processing , Article 21 - Right to object ',\n",
       "       'Article 45 - Transfers on the basis of an adequacy decision ',\n",
       "       'Article 5 - Principles relating to processing of personal data , Article 21 - Right to object ',\n",
       "       'Article 13 - Information to be provided where personal data are collected from the data subject , Article 15 - Right of access by the data subject , Article 17 - Right to erasure (right to be forgotten) ',\n",
       "       'Article 15 - Right of access by the data subject , Article 18 - Right to restriction of processing ',\n",
       "       'Article 13 - Information to be provided where personal data are collected from the data subject , Article 13 - Information to be provided where personal data are collected from the data subject ',\n",
       "       'Article 22 - Automated individual decision-making, including profiling , Article 14 - Information to be provided where personal data have not been obtained from the data subject ',\n",
       "       'Article 18 - Right to restriction of processing , Article 21 - Right to object , Article 7 - Conditions for consent ',\n",
       "       'Article 21 - Right to object , Article 13 - Information to be provided where personal data are collected from the data subject ',\n",
       "       'Article 45 - Transfers on the basis of an adequacy decision , Article 15 - Right of access by the data subject , Article 17 - Right to erasure (right to be forgotten) , Article 20 - Right to data portability ',\n",
       "       'Article 37 - Designation of the data protection officer , Article 77 - Right to lodge a complaint with a supervisory authority ',\n",
       "       'Article 13 - Information to be provided where personal data are collected from the data subject , Article 37 - Designation of the data protection officer ',\n",
       "       'Article 13 - Information to be provided where personal data are collected from the data subject , Article 17 - Right to erasure (right to be forgotten) ',\n",
       "       'Article 9 - Processing of special categories of personal data , Article 13 - Information to be provided where personal data are collected from the data subject , Article 14 - Information to be provided where personal data have not been obtained from the data subject ',\n",
       "       'Article 5 - Principles relating to processing of personal data , Article 9 - Processing of special categories of personal data , Article 21 - Right to object , Article 22 - Automated individual decision-making, including profiling , Article 14 - Information to be provided where personal data have not been obtained from the data subject ',\n",
       "       'Article 5 - Principles relating to processing of personal data , Article 15 - Right of access by the data subject , Article 17 - Right to erasure (right to be forgotten) , Article 21 - Right to object ',\n",
       "       'Article 5 - Principles relating to processing of personal data , Article 17 - Right to erasure (right to be forgotten) , Article 21 - Right to object ',\n",
       "       'Article 21 - Right to object , Article 14 - Information to be provided where personal data have not been obtained from the data subject ',\n",
       "       'Article 9 - Processing of special categories of personal data , Article 21 - Right to object ',\n",
       "       'Article 5 - Principles relating to processing of personal data , Article 21 - Right to object , Article 14 - Information to be provided where personal data have not been obtained from the data subject ',\n",
       "       'Article 15 - Right of access by the data subject , Article 21 - Right to object ',\n",
       "       'Article 5 - Principles relating to processing of personal data , Article 13 - Information to be provided where personal data are collected from the data subject ',\n",
       "       'Article 5 - Principles relating to processing of personal data , Article 9 - Processing of special categories of personal data , Article 13 - Information to be provided where personal data are collected from the data subject , Article 14 - Information to be provided where personal data have not been obtained from the data subject ',\n",
       "       'Article 5 - Principles relating to processing of personal data , Article 13 - Information to be provided where personal data are collected from the data subject , Article 15 - Right of access by the data subject , Article 21 - Right to object , Article 14 - Information to be provided where personal data have not been obtained from the data subject ',\n",
       "       'Article 5 - Principles relating to processing of personal data , Article 9 - Processing of special categories of personal data , Article 46 - Transfers subject to appropriate safeguards , Article 21 - Right to object , Article 22 - Automated individual decision-making, including profiling , Article 14 - Information to be provided where personal data have not been obtained from the data subject ',\n",
       "       'Article 5 - Principles relating to processing of personal data , Article 22 - Automated individual decision-making, including profiling , Article 14 - Information to be provided where personal data have not been obtained from the data subject ',\n",
       "       'Article 17 - Right to erasure (right to be forgotten) , Article 21 - Right to object , Article 22 - Automated individual decision-making, including profiling ',\n",
       "       'Article 5 - Principles relating to processing of personal data , Article 46 - Transfers subject to appropriate safeguards ',\n",
       "       'Article 18 - Right to restriction of processing , Article 21 - Right to object ',\n",
       "       'Article 13 - Information to be provided where personal data are collected from the data subject , Article 21 - Right to object , Article 14 - Information to be provided where personal data have not been obtained from the data subject ',\n",
       "       'Article 5 - Principles relating to processing of personal data , Article 18 - Right to restriction of processing , Article 13 - Information to be provided where personal data are collected from the data subject ',\n",
       "       'Article 18 - Right to restriction of processing , Article 13 - Information to be provided where personal data are collected from the data subject ',\n",
       "       'Article 13 - Information to be provided where personal data are collected from the data subject , Article 14 - Information to be provided where personal data have not been obtained from the data subject ',\n",
       "       'Article 5 - Principles relating to processing of personal data , Article 18 - Right to restriction of processing ',\n",
       "       'Article 5 - Principles relating to processing of personal data , Article 18 - Right to restriction of processing , Article 21 - Right to object ',\n",
       "       'Article 18 - Right to restriction of processing , Article 14 - Information to be provided where personal data have not been obtained from the data subject ',\n",
       "       'Article 15 - Right of access by the data subject , Article 17 - Right to erasure (right to be forgotten) , Article 20 - Right to data portability ',\n",
       "       'Article 5 - Principles relating to processing of personal data , Article 15 - Right of access by the data subject , Article 17 - Right to erasure (right to be forgotten) ',\n",
       "       'Article 5 - Principles relating to processing of personal data , Article 9 - Processing of special categories of personal data , Article 18 - Right to restriction of processing ',\n",
       "       'Article 5 - Principles relating to processing of personal data , Article 17 - Right to erasure (right to be forgotten) , Article 18 - Right to restriction of processing ',\n",
       "       'Article 46 - Transfers subject to appropriate safeguards , Article 22 - Automated individual decision-making, including profiling ',\n",
       "       'Article 37 - Designation of the data protection officer , Article 21 - Right to object ',\n",
       "       'Article 17 - Right to erasure (right to be forgotten) , Article 18 - Right to restriction of processing , Article 21 - Right to object ',\n",
       "       'Article 21 - Right to object , Article 7 - Conditions for consent ',\n",
       "       'Article 13 - Information to be provided where personal data are collected from the data subject , Article 77 - Right to lodge a complaint with a supervisory authority ',\n",
       "       'Article 5 - Principles relating to processing of personal data , Article 9 - Processing of special categories of personal data , Article 46 - Transfers subject to appropriate safeguards , Article 13 - Information to be provided where personal data are collected from the data subject , Article 14 - Information to be provided where personal data have not been obtained from the data subject ',\n",
       "       'Article 9 - Processing of special categories of personal data , Article 18 - Right to restriction of processing ',\n",
       "       'Article 15 - Right of access by the data subject , Article 17 - Right to erasure (right to be forgotten) , Article 7 - Conditions for consent ',\n",
       "       'Article 5 - Principles relating to processing of personal data , Article 9 - Processing of special categories of personal data , Article 21 - Right to object , Article 13 - Information to be provided where personal data are collected from the data subject ',\n",
       "       'Article 5 - Principles relating to processing of personal data , Article 9 - Processing of special categories of personal data , Article 22 - Automated individual decision-making, including profiling , Article 14 - Information to be provided where personal data have not been obtained from the data subject ',\n",
       "       'Article 5 - Principles relating to processing of personal data , Article 9 - Processing of special categories of personal data , Article 18 - Right to restriction of processing , Article 13 - Information to be provided where personal data are collected from the data subject ',\n",
       "       'Article 9 - Processing of special categories of personal data , Article 5 - Principles relating to processing of personal data ',\n",
       "       'Article 37 - Designation of the data protection officer , Article 15 - Right of access by the data subject , Article 17 - Right to erasure (right to be forgotten) ',\n",
       "       'Article 15 - Right of access by the data subject , Article 18 - Right to restriction of processing , Article 21 - Right to object , Article 20 - Right to data portability , Article 7 - Conditions for consent , Article 77 - Right to lodge a complaint with a supervisory authority '],\n",
       "      dtype=object)"
      ]
     },
     "execution_count": 68,
     "metadata": {},
     "output_type": "execute_result"
    }
   ],
   "source": [
    "df1['tags'].unique()"
   ]
  },
  {
   "cell_type": "code",
   "execution_count": 69,
   "metadata": {},
   "outputs": [
    {
     "data": {
      "text/html": [
       "<div>\n",
       "<style scoped>\n",
       "    .dataframe tbody tr th:only-of-type {\n",
       "        vertical-align: middle;\n",
       "    }\n",
       "\n",
       "    .dataframe tbody tr th {\n",
       "        vertical-align: top;\n",
       "    }\n",
       "\n",
       "    .dataframe thead th {\n",
       "        text-align: right;\n",
       "    }\n",
       "</style>\n",
       "<table border=\"1\" class=\"dataframe\">\n",
       "  <thead>\n",
       "    <tr style=\"text-align: right;\">\n",
       "      <th></th>\n",
       "      <th>text_segment</th>\n",
       "      <th>tags</th>\n",
       "    </tr>\n",
       "  </thead>\n",
       "  <tbody>\n",
       "    <tr>\n",
       "      <th>0</th>\n",
       "      <td>We may provide our analysis and certain non-pe...</td>\n",
       "      <td>Article 13 - Information to be provided where ...</td>\n",
       "    </tr>\n",
       "    <tr>\n",
       "      <th>1</th>\n",
       "      <td>We use Secure Socket Layer (SSL) technology to...</td>\n",
       "      <td>Article 46 - Transfers subject to appropriate ...</td>\n",
       "    </tr>\n",
       "    <tr>\n",
       "      <th>2</th>\n",
       "      <td>We incorporate standard industry practices sui...</td>\n",
       "      <td>Article 46 - Transfers subject to appropriate ...</td>\n",
       "    </tr>\n",
       "    <tr>\n",
       "      <th>3</th>\n",
       "      <td>We limit access to personal data only to those...</td>\n",
       "      <td>Article 46 - Transfers subject to appropriate ...</td>\n",
       "    </tr>\n",
       "    <tr>\n",
       "      <th>4</th>\n",
       "      <td>We store data on multiple service systems, in ...</td>\n",
       "      <td>Article 46 - Transfers subject to appropriate ...</td>\n",
       "    </tr>\n",
       "  </tbody>\n",
       "</table>\n",
       "</div>"
      ],
      "text/plain": [
       "                                        text_segment  \\\n",
       "0  We may provide our analysis and certain non-pe...   \n",
       "1  We use Secure Socket Layer (SSL) technology to...   \n",
       "2  We incorporate standard industry practices sui...   \n",
       "3  We limit access to personal data only to those...   \n",
       "4  We store data on multiple service systems, in ...   \n",
       "\n",
       "                                                tags  \n",
       "0  Article 13 - Information to be provided where ...  \n",
       "1  Article 46 - Transfers subject to appropriate ...  \n",
       "2  Article 46 - Transfers subject to appropriate ...  \n",
       "3  Article 46 - Transfers subject to appropriate ...  \n",
       "4  Article 46 - Transfers subject to appropriate ...  "
      ]
     },
     "execution_count": 69,
     "metadata": {},
     "output_type": "execute_result"
    }
   ],
   "source": [
    "df1.head()"
   ]
  },
  {
   "cell_type": "code",
   "execution_count": 70,
   "metadata": {},
   "outputs": [],
   "source": [
    "df1.rename(columns={'tags': 'articles'}, inplace=True)"
   ]
  },
  {
   "cell_type": "code",
   "execution_count": 71,
   "metadata": {},
   "outputs": [],
   "source": [
    "df1['compliance'] = 'compliant'"
   ]
  },
  {
   "cell_type": "code",
   "execution_count": 72,
   "metadata": {},
   "outputs": [
    {
     "data": {
      "text/html": [
       "<div>\n",
       "<style scoped>\n",
       "    .dataframe tbody tr th:only-of-type {\n",
       "        vertical-align: middle;\n",
       "    }\n",
       "\n",
       "    .dataframe tbody tr th {\n",
       "        vertical-align: top;\n",
       "    }\n",
       "\n",
       "    .dataframe thead th {\n",
       "        text-align: right;\n",
       "    }\n",
       "</style>\n",
       "<table border=\"1\" class=\"dataframe\">\n",
       "  <thead>\n",
       "    <tr style=\"text-align: right;\">\n",
       "      <th></th>\n",
       "      <th>text_segment</th>\n",
       "      <th>articles</th>\n",
       "      <th>compliance</th>\n",
       "    </tr>\n",
       "  </thead>\n",
       "  <tbody>\n",
       "    <tr>\n",
       "      <th>0</th>\n",
       "      <td>We may provide our analysis and certain non-pe...</td>\n",
       "      <td>Article 13 - Information to be provided where ...</td>\n",
       "      <td>compliant</td>\n",
       "    </tr>\n",
       "    <tr>\n",
       "      <th>1</th>\n",
       "      <td>We use Secure Socket Layer (SSL) technology to...</td>\n",
       "      <td>Article 46 - Transfers subject to appropriate ...</td>\n",
       "      <td>compliant</td>\n",
       "    </tr>\n",
       "    <tr>\n",
       "      <th>2</th>\n",
       "      <td>We incorporate standard industry practices sui...</td>\n",
       "      <td>Article 46 - Transfers subject to appropriate ...</td>\n",
       "      <td>compliant</td>\n",
       "    </tr>\n",
       "    <tr>\n",
       "      <th>3</th>\n",
       "      <td>We limit access to personal data only to those...</td>\n",
       "      <td>Article 46 - Transfers subject to appropriate ...</td>\n",
       "      <td>compliant</td>\n",
       "    </tr>\n",
       "    <tr>\n",
       "      <th>4</th>\n",
       "      <td>We store data on multiple service systems, in ...</td>\n",
       "      <td>Article 46 - Transfers subject to appropriate ...</td>\n",
       "      <td>compliant</td>\n",
       "    </tr>\n",
       "  </tbody>\n",
       "</table>\n",
       "</div>"
      ],
      "text/plain": [
       "                                        text_segment  \\\n",
       "0  We may provide our analysis and certain non-pe...   \n",
       "1  We use Secure Socket Layer (SSL) technology to...   \n",
       "2  We incorporate standard industry practices sui...   \n",
       "3  We limit access to personal data only to those...   \n",
       "4  We store data on multiple service systems, in ...   \n",
       "\n",
       "                                            articles compliance  \n",
       "0  Article 13 - Information to be provided where ...  compliant  \n",
       "1  Article 46 - Transfers subject to appropriate ...  compliant  \n",
       "2  Article 46 - Transfers subject to appropriate ...  compliant  \n",
       "3  Article 46 - Transfers subject to appropriate ...  compliant  \n",
       "4  Article 46 - Transfers subject to appropriate ...  compliant  "
      ]
     },
     "execution_count": 72,
     "metadata": {},
     "output_type": "execute_result"
    }
   ],
   "source": [
    "df1.head()"
   ]
  },
  {
   "cell_type": "code",
   "execution_count": 73,
   "metadata": {},
   "outputs": [],
   "source": [
    "df1.to_csv('../data/fine_tuning/gdpr_compliance_preprocessed.csv', index=False)"
   ]
  },
  {
   "cell_type": "code",
   "execution_count": null,
   "metadata": {},
   "outputs": [],
   "source": []
  }
 ],
 "metadata": {
  "kernelspec": {
   "display_name": "venv",
   "language": "python",
   "name": "python3"
  },
  "language_info": {
   "codemirror_mode": {
    "name": "ipython",
    "version": 3
   },
   "file_extension": ".py",
   "mimetype": "text/x-python",
   "name": "python",
   "nbconvert_exporter": "python",
   "pygments_lexer": "ipython3",
   "version": "3.10.15"
  }
 },
 "nbformat": 4,
 "nbformat_minor": 2
}
