{
 "cells": [
  {
   "cell_type": "code",
   "execution_count": 322,
   "metadata": {},
   "outputs": [],
   "source": [
    "import pandas as pd\n",
    "import ast\n",
    "import re"
   ]
  },
  {
   "cell_type": "code",
   "execution_count": 323,
   "metadata": {},
   "outputs": [],
   "source": [
    "df1= pd.read_csv('../data/fine_tuning/gdpr_compliance.csv')\n",
    "df2= pd.read_csv('../data/fine_tuning/gdpr_violations.csv')"
   ]
  },
  {
   "cell_type": "markdown",
   "metadata": {},
   "source": [
    "# Dataset 1: GDPR Compliance cleaning"
   ]
  },
  {
   "cell_type": "code",
   "execution_count": 324,
   "metadata": {},
   "outputs": [
    {
     "data": {
      "text/html": [
       "<div>\n",
       "<style scoped>\n",
       "    .dataframe tbody tr th:only-of-type {\n",
       "        vertical-align: middle;\n",
       "    }\n",
       "\n",
       "    .dataframe tbody tr th {\n",
       "        vertical-align: top;\n",
       "    }\n",
       "\n",
       "    .dataframe thead th {\n",
       "        text-align: right;\n",
       "    }\n",
       "</style>\n",
       "<table border=\"1\" class=\"dataframe\">\n",
       "  <thead>\n",
       "    <tr style=\"text-align: right;\">\n",
       "      <th></th>\n",
       "      <th>id</th>\n",
       "      <th>source</th>\n",
       "      <th>text_segment</th>\n",
       "      <th>tags</th>\n",
       "    </tr>\n",
       "  </thead>\n",
       "  <tbody>\n",
       "    <tr>\n",
       "      <th>0</th>\n",
       "      <td>1</td>\n",
       "      <td>foodnetwork.com</td>\n",
       "      <td>We may provide our analysis and certain non-pe...</td>\n",
       "      <td>['Data Recipients']</td>\n",
       "    </tr>\n",
       "    <tr>\n",
       "      <th>1</th>\n",
       "      <td>2</td>\n",
       "      <td>msn.com</td>\n",
       "      <td>We use Secure Socket Layer (SSL) technology to...</td>\n",
       "      <td>['Safeguards Copy']</td>\n",
       "    </tr>\n",
       "    <tr>\n",
       "      <th>2</th>\n",
       "      <td>3</td>\n",
       "      <td>msn.com</td>\n",
       "      <td>We incorporate standard industry practices sui...</td>\n",
       "      <td>['Safeguards Copy']</td>\n",
       "    </tr>\n",
       "    <tr>\n",
       "      <th>3</th>\n",
       "      <td>4</td>\n",
       "      <td>msn.com</td>\n",
       "      <td>We limit access to personal data only to those...</td>\n",
       "      <td>['Safeguards Copy']</td>\n",
       "    </tr>\n",
       "    <tr>\n",
       "      <th>4</th>\n",
       "      <td>5</td>\n",
       "      <td>msn.com</td>\n",
       "      <td>We store data on multiple service systems, in ...</td>\n",
       "      <td>['Safeguards Copy']</td>\n",
       "    </tr>\n",
       "  </tbody>\n",
       "</table>\n",
       "</div>"
      ],
      "text/plain": [
       "   id           source                                       text_segment  \\\n",
       "0   1  foodnetwork.com  We may provide our analysis and certain non-pe...   \n",
       "1   2          msn.com  We use Secure Socket Layer (SSL) technology to...   \n",
       "2   3          msn.com  We incorporate standard industry practices sui...   \n",
       "3   4          msn.com  We limit access to personal data only to those...   \n",
       "4   5          msn.com  We store data on multiple service systems, in ...   \n",
       "\n",
       "                  tags  \n",
       "0  ['Data Recipients']  \n",
       "1  ['Safeguards Copy']  \n",
       "2  ['Safeguards Copy']  \n",
       "3  ['Safeguards Copy']  \n",
       "4  ['Safeguards Copy']  "
      ]
     },
     "execution_count": 324,
     "metadata": {},
     "output_type": "execute_result"
    }
   ],
   "source": [
    "df1.head()"
   ]
  },
  {
   "cell_type": "code",
   "execution_count": 325,
   "metadata": {},
   "outputs": [
    {
     "name": "stdout",
     "output_type": "stream",
     "text": [
      "<class 'pandas.core.frame.DataFrame'>\n",
      "RangeIndex: 10511 entries, 0 to 10510\n",
      "Data columns (total 4 columns):\n",
      " #   Column        Non-Null Count  Dtype \n",
      "---  ------        --------------  ----- \n",
      " 0   id            10511 non-null  int64 \n",
      " 1   source        10511 non-null  object\n",
      " 2   text_segment  10511 non-null  object\n",
      " 3   tags          10511 non-null  object\n",
      "dtypes: int64(1), object(3)\n",
      "memory usage: 328.6+ KB\n"
     ]
    }
   ],
   "source": [
    "df1.info()"
   ]
  },
  {
   "cell_type": "code",
   "execution_count": 326,
   "metadata": {},
   "outputs": [],
   "source": [
    "df1= df1[['text_segment','tags']]"
   ]
  },
  {
   "cell_type": "code",
   "execution_count": 327,
   "metadata": {},
   "outputs": [
    {
     "data": {
      "text/plain": [
       "count                      10511\n",
       "unique                        99\n",
       "top       ['Processing Purpose']\n",
       "freq                        1692\n",
       "Name: tags, dtype: object"
      ]
     },
     "execution_count": 327,
     "metadata": {},
     "output_type": "execute_result"
    }
   ],
   "source": [
    "df1['tags'].describe()"
   ]
  },
  {
   "cell_type": "code",
   "execution_count": 328,
   "metadata": {},
   "outputs": [
    {
     "data": {
      "text/plain": [
       "array([\"['Data Recipients']\", \"['Safeguards Copy']\",\n",
       "       \"['Processing Purpose']\", \"['Data Categories']\",\n",
       "       \"['Source of Data']\", \"['Right to Erase']\",\n",
       "       \"['Right to Restrict']\", \"['Right to Access']\",\n",
       "       \"['Right to Object']\", \"['Withdraw Consent']\",\n",
       "       \"['Right to Portability']\", \"['Profiling']\",\n",
       "       \"['Processing Purpose', 'Data Categories']\",\n",
       "       \"['Data Recipients', 'Processing Purpose']\",\n",
       "       \"['Controller Contact']\", \"['Right to Object', 'Profiling']\",\n",
       "       \"['Right to Access', 'Right to Erase']\",\n",
       "       \"['Right to Restrict', 'Right to Access']\",\n",
       "       \"['Processing Purpose', 'Data Recipients', 'Profiling']\",\n",
       "       \"['Provision Requirement']\", \"['Data Categories', 'Profiling']\",\n",
       "       \"['Data Categories', 'Source of Data']\",\n",
       "       \"['Data Recipients', 'Profiling']\",\n",
       "       \"['Controller Contact', 'Right to Access']\", \"['Storage Period']\",\n",
       "       \"['Lodge Complaint']\", \"['Processing Purpose', 'Source of Data']\",\n",
       "       \"['Processing Purpose', 'Storage Period']\",\n",
       "       \"['Right to Erase', 'Withdraw Consent']\",\n",
       "       \"['Right to Erase', 'Right to Object']\",\n",
       "       \"['Right to Access', 'Right to Erase', 'Right to Object']\",\n",
       "       \"['Right to Access', 'Right to Portability']\", \"['DPO Contact']\",\n",
       "       \"['Controller Contact', 'Right to Restrict', 'Withdraw Consent']\",\n",
       "       \"['Processing Purpose', 'Data Categories', 'Source of Data']\",\n",
       "       \"['Controller Contact', 'Right to Restrict']\",\n",
       "       \"['Right to Access', 'Right to Erase', 'Right to Restrict']\",\n",
       "       \"['Processing Purpose', 'Profiling']\",\n",
       "       \"['Processing Purpose', 'Data Categories', 'Profiling']\",\n",
       "       \"['Data Recipients', 'Safeguards Copy']\",\n",
       "       \"['Controller Contact', 'Right to Restrict', 'Right to Object']\",\n",
       "       \"['Adequacy Decision']\",\n",
       "       \"['Processing Purpose', 'Right to Object']\",\n",
       "       \"['Controller Contact', 'Right to Access', 'Right to Erase']\",\n",
       "       \"['Right to Access', 'Right to Restrict']\",\n",
       "       \"['Data Recipients', 'Provision Requirement']\",\n",
       "       \"['Profiling', 'Source of Data']\",\n",
       "       \"['Right to Restrict', 'Right to Object', 'Withdraw Consent']\",\n",
       "       \"['Right to Object', 'Provision Requirement']\",\n",
       "       \"['Adequacy Decision', 'Right to Access', 'Right to Erase', 'Right to Portability']\",\n",
       "       \"['DPO Contact', 'Lodge Complaint']\",\n",
       "       \"['Controller Contact', 'DPO Contact']\",\n",
       "       \"['Controller Contact', 'Right to Erase']\",\n",
       "       \"['Data Categories', 'Data Recipients', 'Source of Data']\",\n",
       "       \"['Processing Purpose', 'Data Categories', 'Right to Object', 'Profiling', 'Source of Data']\",\n",
       "       \"['Processing Purpose', 'Right to Access', 'Right to Erase', 'Right to Object']\",\n",
       "       \"['Processing Purpose', 'Right to Erase', 'Right to Object']\",\n",
       "       \"['Right to Object', 'Source of Data']\",\n",
       "       \"['Data Categories', 'Right to Object']\",\n",
       "       \"['Processing Purpose', 'Right to Object', 'Source of Data']\",\n",
       "       \"['Right to Access', 'Right to Object']\",\n",
       "       \"['Processing Purpose', 'Data Recipients']\",\n",
       "       \"['Processing Purpose', 'Data Categories', 'Provision Requirement', 'Source of Data']\",\n",
       "       \"['Processing Purpose', 'Data Recipients', 'Right to Access', 'Right to Object', 'Source of Data']\",\n",
       "       \"['Processing Purpose', 'Data Categories', 'Data Recipients', 'Source of Data']\",\n",
       "       \"['Processing Purpose', 'Data Categories', 'Safeguards Copy', 'Right to Object', 'Profiling', 'Source of Data']\",\n",
       "       \"['Processing Purpose', 'Profiling', 'Source of Data']\",\n",
       "       \"['Right to Erase', 'Right to Object', 'Profiling']\",\n",
       "       \"['Data Recipients', 'Right to Restrict']\",\n",
       "       \"['Processing Purpose', 'Safeguards Copy']\",\n",
       "       \"['Right to Restrict', 'Right to Object']\",\n",
       "       \"['Data Recipients', 'Right to Object', 'Source of Data']\",\n",
       "       \"['Data Categories', 'Provision Requirement', 'Source of Data']\",\n",
       "       \"['Processing Purpose', 'Right to Restrict', 'Provision Requirement']\",\n",
       "       \"['Right to Restrict', 'Provision Requirement']\",\n",
       "       \"['Provision Requirement', 'Source of Data']\",\n",
       "       \"['Processing Purpose', 'Right to Restrict']\",\n",
       "       \"['Processing Purpose', 'Right to Restrict', 'Right to Object']\",\n",
       "       \"['Right to Restrict', 'Source of Data']\",\n",
       "       \"['Right to Access', 'Right to Erase', 'Right to Portability']\",\n",
       "       \"['Storage Period', 'Right to Access', 'Right to Erase']\",\n",
       "       \"['Processing Purpose', 'Data Categories', 'Right to Restrict']\",\n",
       "       \"['Processing Purpose', 'Right to Erase', 'Right to Restrict']\",\n",
       "       \"['Safeguards Copy', 'Profiling']\",\n",
       "       \"['DPO Contact', 'Right to Object']\",\n",
       "       \"['Right to Erase', 'Right to Restrict', 'Right to Object']\",\n",
       "       \"['Right to Object', 'Withdraw Consent']\",\n",
       "       \"['Processing Purpose', 'Provision Requirement']\",\n",
       "       \"['Controller Contact', 'Lodge Complaint']\",\n",
       "       \"['Processing Purpose', 'Data Categories', 'Safeguards Copy', 'Provision Requirement', 'Source of Data']\",\n",
       "       \"['Data Categories', 'Right to Restrict']\",\n",
       "       \"['Right to Access', 'Right to Erase', 'Withdraw Consent']\",\n",
       "       \"['Processing Purpose', 'Data Categories', 'Right to Object', 'Provision Requirement']\",\n",
       "       \"['Processing Purpose', 'Data Categories', 'Profiling', 'Source of Data']\",\n",
       "       \"['Processing Purpose', 'Data Categories', 'Right to Restrict', 'Provision Requirement']\",\n",
       "       \"['Data Categories', 'Storage Period']\",\n",
       "       \"['DPO Contact', 'Right to Access', 'Right to Erase']\",\n",
       "       \"['Right to Access', 'Right to Restrict', 'Right to Object', 'Right to Portability', 'Withdraw Consent', 'Lodge Complaint']\",\n",
       "       \"['Data Recipients', 'Source of Data']\"], dtype=object)"
      ]
     },
     "execution_count": 328,
     "metadata": {},
     "output_type": "execute_result"
    }
   ],
   "source": [
    "df1['tags'].unique()"
   ]
  },
  {
   "cell_type": "code",
   "execution_count": 329,
   "metadata": {},
   "outputs": [
    {
     "name": "stdout",
     "output_type": "stream",
     "text": [
      "{'Withdraw Consent', 'Safeguards Copy', 'Profiling', 'Right to Restrict', 'Right to Access', 'Controller Contact', 'Lodge Complaint', 'Data Recipients', 'DPO Contact', 'Processing Purpose', 'Right to Portability', 'Storage Period', 'Right to Erase', 'Right to Object', 'Data Categories', 'Source of Data', 'Provision Requirement', 'Adequacy Decision'}\n"
     ]
    }
   ],
   "source": [
    "\n",
    "tags_set = set()\n",
    "\n",
    "for i in df1['tags']:\n",
    "    try:\n",
    "        tag_list = ast.literal_eval(i)\n",
    "        # Iterate over the extracted list of tags\n",
    "        for tag in tag_list:\n",
    "            tags_set.add(tag.strip())\n",
    "    except (SyntaxError, ValueError):\n",
    "        print(f\"Skipping invalid entry: {i}\")\n",
    "\n",
    "print(tags_set)\n"
   ]
  },
  {
   "cell_type": "code",
   "execution_count": 330,
   "metadata": {},
   "outputs": [
    {
     "data": {
      "text/plain": [
       "{'Adequacy Decision',\n",
       " 'Controller Contact',\n",
       " 'DPO Contact',\n",
       " 'Data Categories',\n",
       " 'Data Recipients',\n",
       " 'Lodge Complaint',\n",
       " 'Processing Purpose',\n",
       " 'Profiling',\n",
       " 'Provision Requirement',\n",
       " 'Right to Access',\n",
       " 'Right to Erase',\n",
       " 'Right to Object',\n",
       " 'Right to Portability',\n",
       " 'Right to Restrict',\n",
       " 'Safeguards Copy',\n",
       " 'Source of Data',\n",
       " 'Storage Period',\n",
       " 'Withdraw Consent'}"
      ]
     },
     "execution_count": 330,
     "metadata": {},
     "output_type": "execute_result"
    }
   ],
   "source": [
    "tags_set"
   ]
  },
  {
   "cell_type": "markdown",
   "metadata": {},
   "source": [
    "**map each tag with an article number and title**"
   ]
  },
  {
   "cell_type": "code",
   "execution_count": 331,
   "metadata": {},
   "outputs": [],
   "source": [
    "articles = {\n",
    "    'Adequacy Decision': 'Article 45 - Transfers on the basis of an adequacy decision',\n",
    "    'Controller Contact': 'Article 13 - Information to be provided where personal data are collected from the data subject',\n",
    "    'DPO Contact': 'Article 37 - Designation of the data protection officer',\n",
    "    'Data Categories': 'Article 9 - Processing of special categories of personal data',\n",
    "    'Data Recipients': 'Article 13 - Information to be provided where personal data are collected from the data subject',\n",
    "    'Lodge Complaint': 'Article 77 - Right to lodge a complaint with a supervisory authority',\n",
    "    'Processing Purpose': 'Article 5 - Principles relating to processing of personal data',\n",
    "    'Profiling': 'Article 22 - Automated individual decision-making, including profiling',\n",
    "    'Provision Requirement': 'Article 13 - Information to be provided where personal data are collected from the data subject',\n",
    "    'Right to Access': 'Article 15 - Right of access by the data subject',\n",
    "    'Right to Erase': 'Article 17 - Right to erasure (right to be forgotten)',\n",
    "    'Right to Object': 'Article 21 - Right to object',\n",
    "    'Right to Portability': 'Article 20 - Right to data portability',\n",
    "    'Right to Restrict': 'Article 18 - Right to restriction of processing',\n",
    "    'Safeguards Copy': 'Article 46 - Transfers subject to appropriate safeguards',\n",
    "    'Source of Data': 'Article 14 - Information to be provided where personal data have not been obtained from the data subject',\n",
    "    'Storage Period': 'Article 5 - Principles relating to processing of personal data',\n",
    "    'Withdraw Consent': 'Article 7 - Conditions for consent'\n",
    "}\n"
   ]
  },
  {
   "cell_type": "code",
   "execution_count": 332,
   "metadata": {},
   "outputs": [],
   "source": [
    "def map_tags_to_articles(tags_str, articles):\n",
    "    try:\n",
    "        # Convert the string representation of a list to an actual list\n",
    "        tags_list = ast.literal_eval(tags_str)\n",
    "        mapped_tags = []\n",
    "\n",
    "        for tag in tags_list:\n",
    "            # Check if the tag exists in the articles dictionary\n",
    "            if tag in articles:\n",
    "                mapped_tags.append(f\"{articles[tag]} \")\n",
    "            else:\n",
    "                mapped_tags.append(f\"{tag}: Unknown Article\")\n",
    "        \n",
    "        # Join the mapped tags into a single string separated by commas\n",
    "        return \", \".join(mapped_tags)\n",
    "    except (SyntaxError, ValueError):\n",
    "        return \"Invalid tags format\"\n"
   ]
  },
  {
   "cell_type": "code",
   "execution_count": 333,
   "metadata": {},
   "outputs": [],
   "source": [
    "df1['tags'] = df1['tags'].apply(lambda x: map_tags_to_articles(x, articles))\n"
   ]
  },
  {
   "cell_type": "code",
   "execution_count": 334,
   "metadata": {},
   "outputs": [
    {
     "data": {
      "text/html": [
       "<div>\n",
       "<style scoped>\n",
       "    .dataframe tbody tr th:only-of-type {\n",
       "        vertical-align: middle;\n",
       "    }\n",
       "\n",
       "    .dataframe tbody tr th {\n",
       "        vertical-align: top;\n",
       "    }\n",
       "\n",
       "    .dataframe thead th {\n",
       "        text-align: right;\n",
       "    }\n",
       "</style>\n",
       "<table border=\"1\" class=\"dataframe\">\n",
       "  <thead>\n",
       "    <tr style=\"text-align: right;\">\n",
       "      <th></th>\n",
       "      <th>text_segment</th>\n",
       "      <th>tags</th>\n",
       "    </tr>\n",
       "  </thead>\n",
       "  <tbody>\n",
       "    <tr>\n",
       "      <th>0</th>\n",
       "      <td>We may provide our analysis and certain non-pe...</td>\n",
       "      <td>Article 13 - Information to be provided where ...</td>\n",
       "    </tr>\n",
       "    <tr>\n",
       "      <th>1</th>\n",
       "      <td>We use Secure Socket Layer (SSL) technology to...</td>\n",
       "      <td>Article 46 - Transfers subject to appropriate ...</td>\n",
       "    </tr>\n",
       "    <tr>\n",
       "      <th>2</th>\n",
       "      <td>We incorporate standard industry practices sui...</td>\n",
       "      <td>Article 46 - Transfers subject to appropriate ...</td>\n",
       "    </tr>\n",
       "    <tr>\n",
       "      <th>3</th>\n",
       "      <td>We limit access to personal data only to those...</td>\n",
       "      <td>Article 46 - Transfers subject to appropriate ...</td>\n",
       "    </tr>\n",
       "    <tr>\n",
       "      <th>4</th>\n",
       "      <td>We store data on multiple service systems, in ...</td>\n",
       "      <td>Article 46 - Transfers subject to appropriate ...</td>\n",
       "    </tr>\n",
       "  </tbody>\n",
       "</table>\n",
       "</div>"
      ],
      "text/plain": [
       "                                        text_segment  \\\n",
       "0  We may provide our analysis and certain non-pe...   \n",
       "1  We use Secure Socket Layer (SSL) technology to...   \n",
       "2  We incorporate standard industry practices sui...   \n",
       "3  We limit access to personal data only to those...   \n",
       "4  We store data on multiple service systems, in ...   \n",
       "\n",
       "                                                tags  \n",
       "0  Article 13 - Information to be provided where ...  \n",
       "1  Article 46 - Transfers subject to appropriate ...  \n",
       "2  Article 46 - Transfers subject to appropriate ...  \n",
       "3  Article 46 - Transfers subject to appropriate ...  \n",
       "4  Article 46 - Transfers subject to appropriate ...  "
      ]
     },
     "execution_count": 334,
     "metadata": {},
     "output_type": "execute_result"
    }
   ],
   "source": [
    "df1.head()"
   ]
  },
  {
   "cell_type": "code",
   "execution_count": 335,
   "metadata": {},
   "outputs": [
    {
     "data": {
      "text/plain": [
       "array(['Article 13 - Information to be provided where personal data are collected from the data subject ',\n",
       "       'Article 46 - Transfers subject to appropriate safeguards ',\n",
       "       'Article 5 - Principles relating to processing of personal data ',\n",
       "       'Article 9 - Processing of special categories of personal data ',\n",
       "       'Article 14 - Information to be provided where personal data have not been obtained from the data subject ',\n",
       "       'Article 17 - Right to erasure (right to be forgotten) ',\n",
       "       'Article 18 - Right to restriction of processing ',\n",
       "       'Article 15 - Right of access by the data subject ',\n",
       "       'Article 21 - Right to object ',\n",
       "       'Article 7 - Conditions for consent ',\n",
       "       'Article 20 - Right to data portability ',\n",
       "       'Article 22 - Automated individual decision-making, including profiling ',\n",
       "       'Article 5 - Principles relating to processing of personal data , Article 9 - Processing of special categories of personal data ',\n",
       "       'Article 13 - Information to be provided where personal data are collected from the data subject , Article 5 - Principles relating to processing of personal data ',\n",
       "       'Article 21 - Right to object , Article 22 - Automated individual decision-making, including profiling ',\n",
       "       'Article 15 - Right of access by the data subject , Article 17 - Right to erasure (right to be forgotten) ',\n",
       "       'Article 18 - Right to restriction of processing , Article 15 - Right of access by the data subject ',\n",
       "       'Article 5 - Principles relating to processing of personal data , Article 13 - Information to be provided where personal data are collected from the data subject , Article 22 - Automated individual decision-making, including profiling ',\n",
       "       'Article 9 - Processing of special categories of personal data , Article 22 - Automated individual decision-making, including profiling ',\n",
       "       'Article 9 - Processing of special categories of personal data , Article 14 - Information to be provided where personal data have not been obtained from the data subject ',\n",
       "       'Article 13 - Information to be provided where personal data are collected from the data subject , Article 22 - Automated individual decision-making, including profiling ',\n",
       "       'Article 13 - Information to be provided where personal data are collected from the data subject , Article 15 - Right of access by the data subject ',\n",
       "       'Article 77 - Right to lodge a complaint with a supervisory authority ',\n",
       "       'Article 5 - Principles relating to processing of personal data , Article 14 - Information to be provided where personal data have not been obtained from the data subject ',\n",
       "       'Article 5 - Principles relating to processing of personal data , Article 5 - Principles relating to processing of personal data ',\n",
       "       'Article 17 - Right to erasure (right to be forgotten) , Article 7 - Conditions for consent ',\n",
       "       'Article 17 - Right to erasure (right to be forgotten) , Article 21 - Right to object ',\n",
       "       'Article 15 - Right of access by the data subject , Article 17 - Right to erasure (right to be forgotten) , Article 21 - Right to object ',\n",
       "       'Article 15 - Right of access by the data subject , Article 20 - Right to data portability ',\n",
       "       'Article 37 - Designation of the data protection officer ',\n",
       "       'Article 13 - Information to be provided where personal data are collected from the data subject , Article 18 - Right to restriction of processing , Article 7 - Conditions for consent ',\n",
       "       'Article 5 - Principles relating to processing of personal data , Article 9 - Processing of special categories of personal data , Article 14 - Information to be provided where personal data have not been obtained from the data subject ',\n",
       "       'Article 13 - Information to be provided where personal data are collected from the data subject , Article 18 - Right to restriction of processing ',\n",
       "       'Article 15 - Right of access by the data subject , Article 17 - Right to erasure (right to be forgotten) , Article 18 - Right to restriction of processing ',\n",
       "       'Article 5 - Principles relating to processing of personal data , Article 22 - Automated individual decision-making, including profiling ',\n",
       "       'Article 5 - Principles relating to processing of personal data , Article 9 - Processing of special categories of personal data , Article 22 - Automated individual decision-making, including profiling ',\n",
       "       'Article 13 - Information to be provided where personal data are collected from the data subject , Article 46 - Transfers subject to appropriate safeguards ',\n",
       "       'Article 13 - Information to be provided where personal data are collected from the data subject , Article 18 - Right to restriction of processing , Article 21 - Right to object ',\n",
       "       'Article 45 - Transfers on the basis of an adequacy decision ',\n",
       "       'Article 5 - Principles relating to processing of personal data , Article 21 - Right to object ',\n",
       "       'Article 13 - Information to be provided where personal data are collected from the data subject , Article 15 - Right of access by the data subject , Article 17 - Right to erasure (right to be forgotten) ',\n",
       "       'Article 15 - Right of access by the data subject , Article 18 - Right to restriction of processing ',\n",
       "       'Article 13 - Information to be provided where personal data are collected from the data subject , Article 13 - Information to be provided where personal data are collected from the data subject ',\n",
       "       'Article 22 - Automated individual decision-making, including profiling , Article 14 - Information to be provided where personal data have not been obtained from the data subject ',\n",
       "       'Article 18 - Right to restriction of processing , Article 21 - Right to object , Article 7 - Conditions for consent ',\n",
       "       'Article 21 - Right to object , Article 13 - Information to be provided where personal data are collected from the data subject ',\n",
       "       'Article 45 - Transfers on the basis of an adequacy decision , Article 15 - Right of access by the data subject , Article 17 - Right to erasure (right to be forgotten) , Article 20 - Right to data portability ',\n",
       "       'Article 37 - Designation of the data protection officer , Article 77 - Right to lodge a complaint with a supervisory authority ',\n",
       "       'Article 13 - Information to be provided where personal data are collected from the data subject , Article 37 - Designation of the data protection officer ',\n",
       "       'Article 13 - Information to be provided where personal data are collected from the data subject , Article 17 - Right to erasure (right to be forgotten) ',\n",
       "       'Article 9 - Processing of special categories of personal data , Article 13 - Information to be provided where personal data are collected from the data subject , Article 14 - Information to be provided where personal data have not been obtained from the data subject ',\n",
       "       'Article 5 - Principles relating to processing of personal data , Article 9 - Processing of special categories of personal data , Article 21 - Right to object , Article 22 - Automated individual decision-making, including profiling , Article 14 - Information to be provided where personal data have not been obtained from the data subject ',\n",
       "       'Article 5 - Principles relating to processing of personal data , Article 15 - Right of access by the data subject , Article 17 - Right to erasure (right to be forgotten) , Article 21 - Right to object ',\n",
       "       'Article 5 - Principles relating to processing of personal data , Article 17 - Right to erasure (right to be forgotten) , Article 21 - Right to object ',\n",
       "       'Article 21 - Right to object , Article 14 - Information to be provided where personal data have not been obtained from the data subject ',\n",
       "       'Article 9 - Processing of special categories of personal data , Article 21 - Right to object ',\n",
       "       'Article 5 - Principles relating to processing of personal data , Article 21 - Right to object , Article 14 - Information to be provided where personal data have not been obtained from the data subject ',\n",
       "       'Article 15 - Right of access by the data subject , Article 21 - Right to object ',\n",
       "       'Article 5 - Principles relating to processing of personal data , Article 13 - Information to be provided where personal data are collected from the data subject ',\n",
       "       'Article 5 - Principles relating to processing of personal data , Article 9 - Processing of special categories of personal data , Article 13 - Information to be provided where personal data are collected from the data subject , Article 14 - Information to be provided where personal data have not been obtained from the data subject ',\n",
       "       'Article 5 - Principles relating to processing of personal data , Article 13 - Information to be provided where personal data are collected from the data subject , Article 15 - Right of access by the data subject , Article 21 - Right to object , Article 14 - Information to be provided where personal data have not been obtained from the data subject ',\n",
       "       'Article 5 - Principles relating to processing of personal data , Article 9 - Processing of special categories of personal data , Article 46 - Transfers subject to appropriate safeguards , Article 21 - Right to object , Article 22 - Automated individual decision-making, including profiling , Article 14 - Information to be provided where personal data have not been obtained from the data subject ',\n",
       "       'Article 5 - Principles relating to processing of personal data , Article 22 - Automated individual decision-making, including profiling , Article 14 - Information to be provided where personal data have not been obtained from the data subject ',\n",
       "       'Article 17 - Right to erasure (right to be forgotten) , Article 21 - Right to object , Article 22 - Automated individual decision-making, including profiling ',\n",
       "       'Article 5 - Principles relating to processing of personal data , Article 46 - Transfers subject to appropriate safeguards ',\n",
       "       'Article 18 - Right to restriction of processing , Article 21 - Right to object ',\n",
       "       'Article 13 - Information to be provided where personal data are collected from the data subject , Article 21 - Right to object , Article 14 - Information to be provided where personal data have not been obtained from the data subject ',\n",
       "       'Article 5 - Principles relating to processing of personal data , Article 18 - Right to restriction of processing , Article 13 - Information to be provided where personal data are collected from the data subject ',\n",
       "       'Article 18 - Right to restriction of processing , Article 13 - Information to be provided where personal data are collected from the data subject ',\n",
       "       'Article 13 - Information to be provided where personal data are collected from the data subject , Article 14 - Information to be provided where personal data have not been obtained from the data subject ',\n",
       "       'Article 5 - Principles relating to processing of personal data , Article 18 - Right to restriction of processing ',\n",
       "       'Article 5 - Principles relating to processing of personal data , Article 18 - Right to restriction of processing , Article 21 - Right to object ',\n",
       "       'Article 18 - Right to restriction of processing , Article 14 - Information to be provided where personal data have not been obtained from the data subject ',\n",
       "       'Article 15 - Right of access by the data subject , Article 17 - Right to erasure (right to be forgotten) , Article 20 - Right to data portability ',\n",
       "       'Article 5 - Principles relating to processing of personal data , Article 15 - Right of access by the data subject , Article 17 - Right to erasure (right to be forgotten) ',\n",
       "       'Article 5 - Principles relating to processing of personal data , Article 9 - Processing of special categories of personal data , Article 18 - Right to restriction of processing ',\n",
       "       'Article 5 - Principles relating to processing of personal data , Article 17 - Right to erasure (right to be forgotten) , Article 18 - Right to restriction of processing ',\n",
       "       'Article 46 - Transfers subject to appropriate safeguards , Article 22 - Automated individual decision-making, including profiling ',\n",
       "       'Article 37 - Designation of the data protection officer , Article 21 - Right to object ',\n",
       "       'Article 17 - Right to erasure (right to be forgotten) , Article 18 - Right to restriction of processing , Article 21 - Right to object ',\n",
       "       'Article 21 - Right to object , Article 7 - Conditions for consent ',\n",
       "       'Article 13 - Information to be provided where personal data are collected from the data subject , Article 77 - Right to lodge a complaint with a supervisory authority ',\n",
       "       'Article 5 - Principles relating to processing of personal data , Article 9 - Processing of special categories of personal data , Article 46 - Transfers subject to appropriate safeguards , Article 13 - Information to be provided where personal data are collected from the data subject , Article 14 - Information to be provided where personal data have not been obtained from the data subject ',\n",
       "       'Article 9 - Processing of special categories of personal data , Article 18 - Right to restriction of processing ',\n",
       "       'Article 15 - Right of access by the data subject , Article 17 - Right to erasure (right to be forgotten) , Article 7 - Conditions for consent ',\n",
       "       'Article 5 - Principles relating to processing of personal data , Article 9 - Processing of special categories of personal data , Article 21 - Right to object , Article 13 - Information to be provided where personal data are collected from the data subject ',\n",
       "       'Article 5 - Principles relating to processing of personal data , Article 9 - Processing of special categories of personal data , Article 22 - Automated individual decision-making, including profiling , Article 14 - Information to be provided where personal data have not been obtained from the data subject ',\n",
       "       'Article 5 - Principles relating to processing of personal data , Article 9 - Processing of special categories of personal data , Article 18 - Right to restriction of processing , Article 13 - Information to be provided where personal data are collected from the data subject ',\n",
       "       'Article 9 - Processing of special categories of personal data , Article 5 - Principles relating to processing of personal data ',\n",
       "       'Article 37 - Designation of the data protection officer , Article 15 - Right of access by the data subject , Article 17 - Right to erasure (right to be forgotten) ',\n",
       "       'Article 15 - Right of access by the data subject , Article 18 - Right to restriction of processing , Article 21 - Right to object , Article 20 - Right to data portability , Article 7 - Conditions for consent , Article 77 - Right to lodge a complaint with a supervisory authority '],\n",
       "      dtype=object)"
      ]
     },
     "execution_count": 335,
     "metadata": {},
     "output_type": "execute_result"
    }
   ],
   "source": [
    "df1['tags'].unique()"
   ]
  },
  {
   "cell_type": "code",
   "execution_count": 336,
   "metadata": {},
   "outputs": [
    {
     "data": {
      "text/html": [
       "<div>\n",
       "<style scoped>\n",
       "    .dataframe tbody tr th:only-of-type {\n",
       "        vertical-align: middle;\n",
       "    }\n",
       "\n",
       "    .dataframe tbody tr th {\n",
       "        vertical-align: top;\n",
       "    }\n",
       "\n",
       "    .dataframe thead th {\n",
       "        text-align: right;\n",
       "    }\n",
       "</style>\n",
       "<table border=\"1\" class=\"dataframe\">\n",
       "  <thead>\n",
       "    <tr style=\"text-align: right;\">\n",
       "      <th></th>\n",
       "      <th>text_segment</th>\n",
       "      <th>tags</th>\n",
       "    </tr>\n",
       "  </thead>\n",
       "  <tbody>\n",
       "    <tr>\n",
       "      <th>0</th>\n",
       "      <td>We may provide our analysis and certain non-pe...</td>\n",
       "      <td>Article 13 - Information to be provided where ...</td>\n",
       "    </tr>\n",
       "    <tr>\n",
       "      <th>1</th>\n",
       "      <td>We use Secure Socket Layer (SSL) technology to...</td>\n",
       "      <td>Article 46 - Transfers subject to appropriate ...</td>\n",
       "    </tr>\n",
       "    <tr>\n",
       "      <th>2</th>\n",
       "      <td>We incorporate standard industry practices sui...</td>\n",
       "      <td>Article 46 - Transfers subject to appropriate ...</td>\n",
       "    </tr>\n",
       "    <tr>\n",
       "      <th>3</th>\n",
       "      <td>We limit access to personal data only to those...</td>\n",
       "      <td>Article 46 - Transfers subject to appropriate ...</td>\n",
       "    </tr>\n",
       "    <tr>\n",
       "      <th>4</th>\n",
       "      <td>We store data on multiple service systems, in ...</td>\n",
       "      <td>Article 46 - Transfers subject to appropriate ...</td>\n",
       "    </tr>\n",
       "  </tbody>\n",
       "</table>\n",
       "</div>"
      ],
      "text/plain": [
       "                                        text_segment  \\\n",
       "0  We may provide our analysis and certain non-pe...   \n",
       "1  We use Secure Socket Layer (SSL) technology to...   \n",
       "2  We incorporate standard industry practices sui...   \n",
       "3  We limit access to personal data only to those...   \n",
       "4  We store data on multiple service systems, in ...   \n",
       "\n",
       "                                                tags  \n",
       "0  Article 13 - Information to be provided where ...  \n",
       "1  Article 46 - Transfers subject to appropriate ...  \n",
       "2  Article 46 - Transfers subject to appropriate ...  \n",
       "3  Article 46 - Transfers subject to appropriate ...  \n",
       "4  Article 46 - Transfers subject to appropriate ...  "
      ]
     },
     "execution_count": 336,
     "metadata": {},
     "output_type": "execute_result"
    }
   ],
   "source": [
    "df1.head()"
   ]
  },
  {
   "cell_type": "code",
   "execution_count": 337,
   "metadata": {},
   "outputs": [],
   "source": [
    "df1.rename(columns={'tags': 'articles'}, inplace=True)"
   ]
  },
  {
   "cell_type": "code",
   "execution_count": 338,
   "metadata": {},
   "outputs": [],
   "source": [
    "df1['compliance'] = 'compliant'"
   ]
  },
  {
   "cell_type": "code",
   "execution_count": 339,
   "metadata": {},
   "outputs": [
    {
     "data": {
      "text/html": [
       "<div>\n",
       "<style scoped>\n",
       "    .dataframe tbody tr th:only-of-type {\n",
       "        vertical-align: middle;\n",
       "    }\n",
       "\n",
       "    .dataframe tbody tr th {\n",
       "        vertical-align: top;\n",
       "    }\n",
       "\n",
       "    .dataframe thead th {\n",
       "        text-align: right;\n",
       "    }\n",
       "</style>\n",
       "<table border=\"1\" class=\"dataframe\">\n",
       "  <thead>\n",
       "    <tr style=\"text-align: right;\">\n",
       "      <th></th>\n",
       "      <th>text_segment</th>\n",
       "      <th>articles</th>\n",
       "      <th>compliance</th>\n",
       "    </tr>\n",
       "  </thead>\n",
       "  <tbody>\n",
       "    <tr>\n",
       "      <th>0</th>\n",
       "      <td>We may provide our analysis and certain non-pe...</td>\n",
       "      <td>Article 13 - Information to be provided where ...</td>\n",
       "      <td>compliant</td>\n",
       "    </tr>\n",
       "    <tr>\n",
       "      <th>1</th>\n",
       "      <td>We use Secure Socket Layer (SSL) technology to...</td>\n",
       "      <td>Article 46 - Transfers subject to appropriate ...</td>\n",
       "      <td>compliant</td>\n",
       "    </tr>\n",
       "    <tr>\n",
       "      <th>2</th>\n",
       "      <td>We incorporate standard industry practices sui...</td>\n",
       "      <td>Article 46 - Transfers subject to appropriate ...</td>\n",
       "      <td>compliant</td>\n",
       "    </tr>\n",
       "    <tr>\n",
       "      <th>3</th>\n",
       "      <td>We limit access to personal data only to those...</td>\n",
       "      <td>Article 46 - Transfers subject to appropriate ...</td>\n",
       "      <td>compliant</td>\n",
       "    </tr>\n",
       "    <tr>\n",
       "      <th>4</th>\n",
       "      <td>We store data on multiple service systems, in ...</td>\n",
       "      <td>Article 46 - Transfers subject to appropriate ...</td>\n",
       "      <td>compliant</td>\n",
       "    </tr>\n",
       "  </tbody>\n",
       "</table>\n",
       "</div>"
      ],
      "text/plain": [
       "                                        text_segment  \\\n",
       "0  We may provide our analysis and certain non-pe...   \n",
       "1  We use Secure Socket Layer (SSL) technology to...   \n",
       "2  We incorporate standard industry practices sui...   \n",
       "3  We limit access to personal data only to those...   \n",
       "4  We store data on multiple service systems, in ...   \n",
       "\n",
       "                                            articles compliance  \n",
       "0  Article 13 - Information to be provided where ...  compliant  \n",
       "1  Article 46 - Transfers subject to appropriate ...  compliant  \n",
       "2  Article 46 - Transfers subject to appropriate ...  compliant  \n",
       "3  Article 46 - Transfers subject to appropriate ...  compliant  \n",
       "4  Article 46 - Transfers subject to appropriate ...  compliant  "
      ]
     },
     "execution_count": 339,
     "metadata": {},
     "output_type": "execute_result"
    }
   ],
   "source": [
    "df1.head()"
   ]
  },
  {
   "cell_type": "code",
   "execution_count": 340,
   "metadata": {},
   "outputs": [],
   "source": [
    "df1.to_csv('../data/fine_tuning/gdpr_compliance_preprocessed.csv', index=False)"
   ]
  },
  {
   "cell_type": "markdown",
   "metadata": {},
   "source": [
    "# Dataset 2: GDPR Violations cleaning"
   ]
  },
  {
   "cell_type": "code",
   "execution_count": 341,
   "metadata": {},
   "outputs": [
    {
     "data": {
      "text/html": [
       "<div>\n",
       "<style scoped>\n",
       "    .dataframe tbody tr th:only-of-type {\n",
       "        vertical-align: middle;\n",
       "    }\n",
       "\n",
       "    .dataframe tbody tr th {\n",
       "        vertical-align: top;\n",
       "    }\n",
       "\n",
       "    .dataframe thead th {\n",
       "        text-align: right;\n",
       "    }\n",
       "</style>\n",
       "<table border=\"1\" class=\"dataframe\">\n",
       "  <thead>\n",
       "    <tr style=\"text-align: right;\">\n",
       "      <th></th>\n",
       "      <th>id</th>\n",
       "      <th>picture</th>\n",
       "      <th>name</th>\n",
       "      <th>price</th>\n",
       "      <th>authority</th>\n",
       "      <th>date</th>\n",
       "      <th>controller</th>\n",
       "      <th>article_violated</th>\n",
       "      <th>type</th>\n",
       "      <th>source</th>\n",
       "      <th>summary</th>\n",
       "    </tr>\n",
       "  </thead>\n",
       "  <tbody>\n",
       "    <tr>\n",
       "      <th>0</th>\n",
       "      <td>1</td>\n",
       "      <td>https://www.privacyaffairs.com/wp-content/uplo...</td>\n",
       "      <td>Poland</td>\n",
       "      <td>9380</td>\n",
       "      <td>Polish National Personal Data Protection Offic...</td>\n",
       "      <td>10/18/2019</td>\n",
       "      <td>Polish Mayor</td>\n",
       "      <td>Art. 28 GDPR</td>\n",
       "      <td>Non-compliance with lawful basis for data proc...</td>\n",
       "      <td>https://uodo.gov.pl/decyzje/ZSPU.421.3.2019</td>\n",
       "      <td>No data processing agreement has been conclude...</td>\n",
       "    </tr>\n",
       "    <tr>\n",
       "      <th>1</th>\n",
       "      <td>2</td>\n",
       "      <td>https://www.privacyaffairs.com/wp-content/uplo...</td>\n",
       "      <td>Romania</td>\n",
       "      <td>2500</td>\n",
       "      <td>Romanian National Supervisory Authority for Pe...</td>\n",
       "      <td>10/17/2019</td>\n",
       "      <td>UTTIS INDUSTRIES</td>\n",
       "      <td>Art. 12 GDPR|Art. 13 GDPR|Art. 5 (1) c) GDPR|A...</td>\n",
       "      <td>Information obligation non-compliance</td>\n",
       "      <td>https://www.dataprotection.ro/?page=A_patra_am...</td>\n",
       "      <td>A controller was sanctioned because he had unl...</td>\n",
       "    </tr>\n",
       "    <tr>\n",
       "      <th>2</th>\n",
       "      <td>3</td>\n",
       "      <td>https://www.privacyaffairs.com/wp-content/uplo...</td>\n",
       "      <td>Spain</td>\n",
       "      <td>60000</td>\n",
       "      <td>Spanish Data Protection Authority (AEPD)</td>\n",
       "      <td>10/16/2019</td>\n",
       "      <td>Xfera Moviles S.A.</td>\n",
       "      <td>Art. 5 GDPR|Art. 6 GDPR</td>\n",
       "      <td>Non-compliance with lawful basis for data proc...</td>\n",
       "      <td>https://www.aepd.es/resoluciones/PS-00262-2019...</td>\n",
       "      <td>The company had unlawfully processed the perso...</td>\n",
       "    </tr>\n",
       "    <tr>\n",
       "      <th>3</th>\n",
       "      <td>4</td>\n",
       "      <td>https://www.privacyaffairs.com/wp-content/uplo...</td>\n",
       "      <td>Spain</td>\n",
       "      <td>8000</td>\n",
       "      <td>Spanish Data Protection Authority (AEPD)</td>\n",
       "      <td>10/16/2019</td>\n",
       "      <td>Iberdrola Clientes</td>\n",
       "      <td>Art. 31 GDPR</td>\n",
       "      <td>Failure to cooperate with supervisory authority</td>\n",
       "      <td>https://www.aepd.es/resoluciones/PS-00304-2019...</td>\n",
       "      <td>Iberdrola Clientes violated Article 13 of the ...</td>\n",
       "    </tr>\n",
       "    <tr>\n",
       "      <th>4</th>\n",
       "      <td>5</td>\n",
       "      <td>https://www.privacyaffairs.com/wp-content/uplo...</td>\n",
       "      <td>Romania</td>\n",
       "      <td>150000</td>\n",
       "      <td>Romanian National Supervisory Authority for Pe...</td>\n",
       "      <td>10/09/2019</td>\n",
       "      <td>Raiffeisen Bank SA</td>\n",
       "      <td>Art. 32 GDPR</td>\n",
       "      <td>Failure to implement sufficient measures to en...</td>\n",
       "      <td>https://www.dataprotection.ro/?page=Comunicat_...</td>\n",
       "      <td>Raiffeisen Bank Romania did not observe the ne...</td>\n",
       "    </tr>\n",
       "  </tbody>\n",
       "</table>\n",
       "</div>"
      ],
      "text/plain": [
       "   id                                            picture     name   price  \\\n",
       "0   1  https://www.privacyaffairs.com/wp-content/uplo...   Poland    9380   \n",
       "1   2  https://www.privacyaffairs.com/wp-content/uplo...  Romania    2500   \n",
       "2   3  https://www.privacyaffairs.com/wp-content/uplo...    Spain   60000   \n",
       "3   4  https://www.privacyaffairs.com/wp-content/uplo...    Spain    8000   \n",
       "4   5  https://www.privacyaffairs.com/wp-content/uplo...  Romania  150000   \n",
       "\n",
       "                                           authority        date  \\\n",
       "0  Polish National Personal Data Protection Offic...  10/18/2019   \n",
       "1  Romanian National Supervisory Authority for Pe...  10/17/2019   \n",
       "2           Spanish Data Protection Authority (AEPD)  10/16/2019   \n",
       "3           Spanish Data Protection Authority (AEPD)  10/16/2019   \n",
       "4  Romanian National Supervisory Authority for Pe...  10/09/2019   \n",
       "\n",
       "           controller                                   article_violated  \\\n",
       "0        Polish Mayor                                       Art. 28 GDPR   \n",
       "1    UTTIS INDUSTRIES  Art. 12 GDPR|Art. 13 GDPR|Art. 5 (1) c) GDPR|A...   \n",
       "2  Xfera Moviles S.A.                            Art. 5 GDPR|Art. 6 GDPR   \n",
       "3  Iberdrola Clientes                                       Art. 31 GDPR   \n",
       "4  Raiffeisen Bank SA                                       Art. 32 GDPR   \n",
       "\n",
       "                                                type  \\\n",
       "0  Non-compliance with lawful basis for data proc...   \n",
       "1              Information obligation non-compliance   \n",
       "2  Non-compliance with lawful basis for data proc...   \n",
       "3    Failure to cooperate with supervisory authority   \n",
       "4  Failure to implement sufficient measures to en...   \n",
       "\n",
       "                                              source  \\\n",
       "0        https://uodo.gov.pl/decyzje/ZSPU.421.3.2019   \n",
       "1  https://www.dataprotection.ro/?page=A_patra_am...   \n",
       "2  https://www.aepd.es/resoluciones/PS-00262-2019...   \n",
       "3  https://www.aepd.es/resoluciones/PS-00304-2019...   \n",
       "4  https://www.dataprotection.ro/?page=Comunicat_...   \n",
       "\n",
       "                                             summary  \n",
       "0  No data processing agreement has been conclude...  \n",
       "1  A controller was sanctioned because he had unl...  \n",
       "2  The company had unlawfully processed the perso...  \n",
       "3  Iberdrola Clientes violated Article 13 of the ...  \n",
       "4  Raiffeisen Bank Romania did not observe the ne...  "
      ]
     },
     "execution_count": 341,
     "metadata": {},
     "output_type": "execute_result"
    }
   ],
   "source": [
    "df2.head()"
   ]
  },
  {
   "cell_type": "code",
   "execution_count": 342,
   "metadata": {},
   "outputs": [
    {
     "name": "stdout",
     "output_type": "stream",
     "text": [
      "<class 'pandas.core.frame.DataFrame'>\n",
      "RangeIndex: 437 entries, 0 to 436\n",
      "Data columns (total 11 columns):\n",
      " #   Column            Non-Null Count  Dtype \n",
      "---  ------            --------------  ----- \n",
      " 0   id                437 non-null    int64 \n",
      " 1   picture           437 non-null    object\n",
      " 2   name              437 non-null    object\n",
      " 3   price             437 non-null    int64 \n",
      " 4   authority         437 non-null    object\n",
      " 5   date              437 non-null    object\n",
      " 6   controller        437 non-null    object\n",
      " 7   article_violated  437 non-null    object\n",
      " 8   type              437 non-null    object\n",
      " 9   source            437 non-null    object\n",
      " 10  summary           437 non-null    object\n",
      "dtypes: int64(2), object(9)\n",
      "memory usage: 37.7+ KB\n"
     ]
    }
   ],
   "source": [
    "df2.info()"
   ]
  },
  {
   "cell_type": "code",
   "execution_count": 343,
   "metadata": {},
   "outputs": [],
   "source": [
    "df2= df2[['summary','article_violated', 'type']]"
   ]
  },
  {
   "cell_type": "code",
   "execution_count": 344,
   "metadata": {},
   "outputs": [
    {
     "data": {
      "text/plain": [
       "count              437\n",
       "unique              86\n",
       "top       Art. 32 GDPR\n",
       "freq                73\n",
       "Name: article_violated, dtype: object"
      ]
     },
     "execution_count": 344,
     "metadata": {},
     "output_type": "execute_result"
    }
   ],
   "source": [
    "df2['article_violated'].describe()"
   ]
  },
  {
   "cell_type": "code",
   "execution_count": 345,
   "metadata": {},
   "outputs": [
    {
     "data": {
      "text/plain": [
       "0                                         Art. 28 GDPR\n",
       "1    Art. 12 GDPR|Art. 13 GDPR|Art. 5 (1) c) GDPR|A...\n",
       "2                              Art. 5 GDPR|Art. 6 GDPR\n",
       "3                                         Art. 31 GDPR\n",
       "4                                         Art. 32 GDPR\n",
       "Name: article_violated, dtype: object"
      ]
     },
     "execution_count": 345,
     "metadata": {},
     "output_type": "execute_result"
    }
   ],
   "source": [
    "df2['article_violated'].head()"
   ]
  },
  {
   "cell_type": "code",
   "execution_count": 346,
   "metadata": {},
   "outputs": [
    {
     "name": "stdout",
     "output_type": "stream",
     "text": [
      "                                             summary  \\\n",
      "0  No data processing agreement has been conclude...   \n",
      "1  A controller was sanctioned because he had unl...   \n",
      "2  The company had unlawfully processed the perso...   \n",
      "3  Iberdrola Clientes violated Article 13 of the ...   \n",
      "4  Raiffeisen Bank Romania did not observe the ne...   \n",
      "\n",
      "               article_violated  \\\n",
      "0                        Art.28   \n",
      "1  Art.12, Art.13, Art.5, Art.6   \n",
      "2                  Art.5, Art.6   \n",
      "3                        Art.31   \n",
      "4                        Art.32   \n",
      "\n",
      "                                                type  \n",
      "0  Non-compliance with lawful basis for data proc...  \n",
      "1              Information obligation non-compliance  \n",
      "2  Non-compliance with lawful basis for data proc...  \n",
      "3    Failure to cooperate with supervisory authority  \n",
      "4  Failure to implement sufficient measures to en...  \n"
     ]
    }
   ],
   "source": [
    "import pandas as pd\n",
    "import re\n",
    "\n",
    "def transform_articles(df, column_name):\n",
    "    def transform_text(text):\n",
    "        # Split the text by '|' and process each part\n",
    "        articles = text.split('|')\n",
    "        transformed = []\n",
    "        for article in articles:\n",
    "            # Remove any extra spaces and standardize the format\n",
    "            article = article.strip()\n",
    "            # Extract the main article number using regex\n",
    "            match = re.search(r'Art\\.\\s*(\\d+)', article)\n",
    "            if match:\n",
    "                transformed.append(f\"Art.{match.group(1)}\")\n",
    "        return ', '.join(transformed)\n",
    "    \n",
    "    df[column_name] = df[column_name].apply(transform_text)\n",
    "    return df\n",
    "\n",
    "df2 = transform_articles(df2, 'article_violated')\n",
    "print(df2.head())\n"
   ]
  },
  {
   "cell_type": "code",
   "execution_count": 347,
   "metadata": {},
   "outputs": [
    {
     "name": "stdout",
     "output_type": "stream",
     "text": [
      "['Art.28' 'Art.12, Art.13, Art.5, Art.6' 'Art.5, Art.6' 'Art.31' 'Art.32'\n",
      " 'Art.32, Art.33' 'Art.5, Art.25' 'Art.21, Art.25'\n",
      " 'Art.15, Art.17, Art.21' 'Art.5' 'Art.13, Art.37' 'Art.17'\n",
      " 'Art.5, Art.9, Art.35, Art.36' 'Art.6'\n",
      " 'Art.5, Art.5, Art.6, Art.13, Art.14' 'Art.25, Art.5' 'Art.33'\n",
      " 'Art.5, Art.12, Art.13, Art.32' 'Art.5, Art.7' 'Art.5, Art.5'\n",
      " 'Art.6, Art.5, Art.13' 'Art.5, Art.32, Art.33' 'Art.5, Art.5, Art.32'\n",
      " 'Art.15' 'Art.5, Art.9, Art.9, Art.6' 'Art.33, Art.33, Art.34'\n",
      " 'Art.5, Art.32' 'Art.14' 'Art.5, Art.5, Art.13, Art.17, Art.6'\n",
      " 'Art.6, Art.5' 'Art.13, Art.14, Art.6, Art.4, Art.5'\n",
      " 'Art.5, Art.5, Art.6, Art.13' 'Art.12, Art.15, Art.18, Art.13' 'Art.13'\n",
      " '' 'Art.83, Art.33, Art.34' 'Art.12, Art.17'\n",
      " 'Art.5, Art.6, Art.13, Art.14, Art.21' 'Art.6, Art.7' 'Art.25'\n",
      " 'Art.12, Art.15' 'Art.37' 'Art.12, Art.15, Art.17' 'Art.5, Art.13'\n",
      " 'Art.58' 'Art.21' 'Art.6, Art.12, Art.13' 'Art.6, Art.25' 'Art.6, Art.9'\n",
      " 'Art.5, Art.6, Art.17, Art.21' 'Art.5, Art.6, Art.7, Art.21'\n",
      " 'Art.5, Art.6, Art.7' 'Art.5, Art.6, Art.7, Art.9'\n",
      " 'Art.5, Art.25, Art.32, Art.33' 'Art.5, Art.6, Art.21'\n",
      " 'Art.5, Art.6, Art.17' 'Art.6, Art.21' 'Art.33, Art.34'\n",
      " 'Art.5, Art.6, Art.32']\n"
     ]
    }
   ],
   "source": [
    "print(df2['article_violated'].unique())"
   ]
  },
  {
   "cell_type": "code",
   "execution_count": 348,
   "metadata": {},
   "outputs": [
    {
     "data": {
      "text/plain": [
       "59"
      ]
     },
     "execution_count": 348,
     "metadata": {},
     "output_type": "execute_result"
    }
   ],
   "source": [
    "len(df2['article_violated'].unique())"
   ]
  },
  {
   "cell_type": "code",
   "execution_count": 349,
   "metadata": {},
   "outputs": [
    {
     "data": {
      "text/html": [
       "<div>\n",
       "<style scoped>\n",
       "    .dataframe tbody tr th:only-of-type {\n",
       "        vertical-align: middle;\n",
       "    }\n",
       "\n",
       "    .dataframe tbody tr th {\n",
       "        vertical-align: top;\n",
       "    }\n",
       "\n",
       "    .dataframe thead th {\n",
       "        text-align: right;\n",
       "    }\n",
       "</style>\n",
       "<table border=\"1\" class=\"dataframe\">\n",
       "  <thead>\n",
       "    <tr style=\"text-align: right;\">\n",
       "      <th></th>\n",
       "      <th>summary</th>\n",
       "      <th>article_violated</th>\n",
       "      <th>type</th>\n",
       "    </tr>\n",
       "  </thead>\n",
       "  <tbody>\n",
       "    <tr>\n",
       "      <th>0</th>\n",
       "      <td>No data processing agreement has been conclude...</td>\n",
       "      <td>Article 28 - Processor</td>\n",
       "      <td>Non-compliance with lawful basis for data proc...</td>\n",
       "    </tr>\n",
       "    <tr>\n",
       "      <th>1</th>\n",
       "      <td>A controller was sanctioned because he had unl...</td>\n",
       "      <td>Article 12 - Transparent information, communic...</td>\n",
       "      <td>Information obligation non-compliance</td>\n",
       "    </tr>\n",
       "    <tr>\n",
       "      <th>2</th>\n",
       "      <td>The company had unlawfully processed the perso...</td>\n",
       "      <td>Article 5 - Principles relating to processing ...</td>\n",
       "      <td>Non-compliance with lawful basis for data proc...</td>\n",
       "    </tr>\n",
       "    <tr>\n",
       "      <th>3</th>\n",
       "      <td>Iberdrola Clientes violated Article 13 of the ...</td>\n",
       "      <td>Article 31 - Cooperation with the supervisory ...</td>\n",
       "      <td>Failure to cooperate with supervisory authority</td>\n",
       "    </tr>\n",
       "    <tr>\n",
       "      <th>4</th>\n",
       "      <td>Raiffeisen Bank Romania did not observe the ne...</td>\n",
       "      <td>Article 32 - Security of processing</td>\n",
       "      <td>Failure to implement sufficient measures to en...</td>\n",
       "    </tr>\n",
       "  </tbody>\n",
       "</table>\n",
       "</div>"
      ],
      "text/plain": [
       "                                             summary  \\\n",
       "0  No data processing agreement has been conclude...   \n",
       "1  A controller was sanctioned because he had unl...   \n",
       "2  The company had unlawfully processed the perso...   \n",
       "3  Iberdrola Clientes violated Article 13 of the ...   \n",
       "4  Raiffeisen Bank Romania did not observe the ne...   \n",
       "\n",
       "                                    article_violated  \\\n",
       "0                            Article 28 - Processor    \n",
       "1  Article 12 - Transparent information, communic...   \n",
       "2  Article 5 - Principles relating to processing ...   \n",
       "3  Article 31 - Cooperation with the supervisory ...   \n",
       "4               Article 32 - Security of processing    \n",
       "\n",
       "                                                type  \n",
       "0  Non-compliance with lawful basis for data proc...  \n",
       "1              Information obligation non-compliance  \n",
       "2  Non-compliance with lawful basis for data proc...  \n",
       "3    Failure to cooperate with supervisory authority  \n",
       "4  Failure to implement sufficient measures to en...  "
      ]
     },
     "execution_count": 349,
     "metadata": {},
     "output_type": "execute_result"
    }
   ],
   "source": [
    "article_titles = {\n",
    "    \"Art.5\": \"Article 5 - Principles relating to processing of personal data\",\n",
    "    \"Art.6\": \"Article 6 - Lawfulness of processing\",\n",
    "    \"Art.7\": \"Article 7 - Conditions for consent\",\n",
    "    \"Art.9\": \"Article 9 - Processing of special categories of personal data\",\n",
    "    \"Art.12\": \"Article 12 - Transparent information, communication and modalities for the exercise of the rights of the data subject\",\n",
    "    \"Art.13\": \"Article 13 - Information to be provided where personal data are collected from the data subject\",\n",
    "    \"Art.14\": \"Article 14 - Information to be provided where personal data have not been obtained from the data subject\",\n",
    "    \"Art.15\": \"Article 15 - Right of access by the data subject\",\n",
    "    \"Art.17\": \"Article 17 - Right to erasure ('right to be forgotten')\",\n",
    "    \"Art.18\": \"Article 18 - Right to restriction of processing\",\n",
    "    \"Art.21\": \"Article 21 - Right to object\",\n",
    "    \"Art.25\": \"Article 25 - Data protection by design and by default\",\n",
    "    \"Art.28\": \"Article 28 - Processor\",\n",
    "    \"Art.31\": \"Article 31 - Cooperation with the supervisory authority\",\n",
    "    \"Art.32\": \"Article 32 - Security of processing\",\n",
    "    \"Art.33\": \"Article 33 - Notification of a personal data breach to the supervisory authority\",\n",
    "    \"Art.34\": \"Article 34 - Communication of a personal data breach to the data subject\",\n",
    "    \"Art.35\": \"Article 35 - Data protection impact assessment\",\n",
    "    \"Art.36\": \"Article 36 - Prior consultation\",\n",
    "    \"Art.37\": \"Article 37 - Designation of the data protection officer\",\n",
    "    \"Art.44\": \"Article 44 - General principle for transfers\",\n",
    "    \"Art.50\": \"Article 50 - International cooperation for the protection of personal data\",\n",
    "    \"Art.58\": \"Article 58 - Powers\",\n",
    "    \"Art.83\": \"Article 83 - General conditions for imposing administrative fines\"\n",
    "}\n",
    "def map_articles_to_titles(articles_str, article_titles):\n",
    "    try:\n",
    "        # Split the string into individual articles\n",
    "        articles_list = [article.strip() for article in articles_str.split(',')]\n",
    "        mapped_articles = []\n",
    "\n",
    "        for article in articles_list:\n",
    "            # Check if the article exists in the article_titles dictionary\n",
    "            if article in article_titles:\n",
    "                mapped_articles.append(f\"{article_titles[article]} \")\n",
    "            else:\n",
    "                mapped_articles.append(f\"{article}: Unknown Article\")\n",
    "        \n",
    "        # Join the mapped articles into a single string separated by commas\n",
    "        return \", \".join(mapped_articles)\n",
    "    except (SyntaxError, ValueError):\n",
    "        return \"Invalid articles format\"\n",
    "df2['article_violated'] = df2['article_violated'].apply(lambda x: map_articles_to_titles(x, article_titles))\n",
    "df2.head()"
   ]
  },
  {
   "cell_type": "code",
   "execution_count": 350,
   "metadata": {},
   "outputs": [
    {
     "data": {
      "text/plain": [
       "array(['Article 28 - Processor ',\n",
       "       'Article 12 - Transparent information, communication and modalities for the exercise of the rights of the data subject , Article 13 - Information to be provided where personal data are collected from the data subject , Article 5 - Principles relating to processing of personal data , Article 6 - Lawfulness of processing ',\n",
       "       'Article 5 - Principles relating to processing of personal data , Article 6 - Lawfulness of processing ',\n",
       "       'Article 31 - Cooperation with the supervisory authority ',\n",
       "       'Article 32 - Security of processing ',\n",
       "       'Article 32 - Security of processing , Article 33 - Notification of a personal data breach to the supervisory authority ',\n",
       "       'Article 5 - Principles relating to processing of personal data , Article 25 - Data protection by design and by default ',\n",
       "       'Article 21 - Right to object , Article 25 - Data protection by design and by default ',\n",
       "       \"Article 15 - Right of access by the data subject , Article 17 - Right to erasure ('right to be forgotten') , Article 21 - Right to object \",\n",
       "       'Article 5 - Principles relating to processing of personal data ',\n",
       "       'Article 13 - Information to be provided where personal data are collected from the data subject , Article 37 - Designation of the data protection officer ',\n",
       "       \"Article 17 - Right to erasure ('right to be forgotten') \",\n",
       "       'Article 5 - Principles relating to processing of personal data , Article 9 - Processing of special categories of personal data , Article 35 - Data protection impact assessment , Article 36 - Prior consultation ',\n",
       "       'Article 6 - Lawfulness of processing ',\n",
       "       'Article 5 - Principles relating to processing of personal data , Article 5 - Principles relating to processing of personal data , Article 6 - Lawfulness of processing , Article 13 - Information to be provided where personal data are collected from the data subject , Article 14 - Information to be provided where personal data have not been obtained from the data subject ',\n",
       "       'Article 25 - Data protection by design and by default , Article 5 - Principles relating to processing of personal data ',\n",
       "       'Article 33 - Notification of a personal data breach to the supervisory authority ',\n",
       "       'Article 5 - Principles relating to processing of personal data , Article 12 - Transparent information, communication and modalities for the exercise of the rights of the data subject , Article 13 - Information to be provided where personal data are collected from the data subject , Article 32 - Security of processing ',\n",
       "       'Article 5 - Principles relating to processing of personal data , Article 7 - Conditions for consent ',\n",
       "       'Article 5 - Principles relating to processing of personal data , Article 5 - Principles relating to processing of personal data ',\n",
       "       'Article 6 - Lawfulness of processing , Article 5 - Principles relating to processing of personal data , Article 13 - Information to be provided where personal data are collected from the data subject ',\n",
       "       'Article 5 - Principles relating to processing of personal data , Article 32 - Security of processing , Article 33 - Notification of a personal data breach to the supervisory authority ',\n",
       "       'Article 5 - Principles relating to processing of personal data , Article 5 - Principles relating to processing of personal data , Article 32 - Security of processing ',\n",
       "       'Article 15 - Right of access by the data subject ',\n",
       "       'Article 5 - Principles relating to processing of personal data , Article 9 - Processing of special categories of personal data , Article 9 - Processing of special categories of personal data , Article 6 - Lawfulness of processing ',\n",
       "       'Article 33 - Notification of a personal data breach to the supervisory authority , Article 33 - Notification of a personal data breach to the supervisory authority , Article 34 - Communication of a personal data breach to the data subject ',\n",
       "       'Article 5 - Principles relating to processing of personal data , Article 32 - Security of processing ',\n",
       "       'Article 14 - Information to be provided where personal data have not been obtained from the data subject ',\n",
       "       \"Article 5 - Principles relating to processing of personal data , Article 5 - Principles relating to processing of personal data , Article 13 - Information to be provided where personal data are collected from the data subject , Article 17 - Right to erasure ('right to be forgotten') , Article 6 - Lawfulness of processing \",\n",
       "       'Article 6 - Lawfulness of processing , Article 5 - Principles relating to processing of personal data ',\n",
       "       'Article 13 - Information to be provided where personal data are collected from the data subject , Article 14 - Information to be provided where personal data have not been obtained from the data subject , Article 6 - Lawfulness of processing , Art.4: Unknown Article, Article 5 - Principles relating to processing of personal data ',\n",
       "       'Article 5 - Principles relating to processing of personal data , Article 5 - Principles relating to processing of personal data , Article 6 - Lawfulness of processing , Article 13 - Information to be provided where personal data are collected from the data subject ',\n",
       "       'Article 12 - Transparent information, communication and modalities for the exercise of the rights of the data subject , Article 15 - Right of access by the data subject , Article 18 - Right to restriction of processing , Article 13 - Information to be provided where personal data are collected from the data subject ',\n",
       "       'Article 13 - Information to be provided where personal data are collected from the data subject ',\n",
       "       ': Unknown Article',\n",
       "       'Article 83 - General conditions for imposing administrative fines , Article 33 - Notification of a personal data breach to the supervisory authority , Article 34 - Communication of a personal data breach to the data subject ',\n",
       "       \"Article 12 - Transparent information, communication and modalities for the exercise of the rights of the data subject , Article 17 - Right to erasure ('right to be forgotten') \",\n",
       "       'Article 5 - Principles relating to processing of personal data , Article 6 - Lawfulness of processing , Article 13 - Information to be provided where personal data are collected from the data subject , Article 14 - Information to be provided where personal data have not been obtained from the data subject , Article 21 - Right to object ',\n",
       "       'Article 6 - Lawfulness of processing , Article 7 - Conditions for consent ',\n",
       "       'Article 25 - Data protection by design and by default ',\n",
       "       'Article 12 - Transparent information, communication and modalities for the exercise of the rights of the data subject , Article 15 - Right of access by the data subject ',\n",
       "       'Article 37 - Designation of the data protection officer ',\n",
       "       \"Article 12 - Transparent information, communication and modalities for the exercise of the rights of the data subject , Article 15 - Right of access by the data subject , Article 17 - Right to erasure ('right to be forgotten') \",\n",
       "       'Article 5 - Principles relating to processing of personal data , Article 13 - Information to be provided where personal data are collected from the data subject ',\n",
       "       'Article 58 - Powers ', 'Article 21 - Right to object ',\n",
       "       'Article 6 - Lawfulness of processing , Article 12 - Transparent information, communication and modalities for the exercise of the rights of the data subject , Article 13 - Information to be provided where personal data are collected from the data subject ',\n",
       "       'Article 6 - Lawfulness of processing , Article 25 - Data protection by design and by default ',\n",
       "       'Article 6 - Lawfulness of processing , Article 9 - Processing of special categories of personal data ',\n",
       "       \"Article 5 - Principles relating to processing of personal data , Article 6 - Lawfulness of processing , Article 17 - Right to erasure ('right to be forgotten') , Article 21 - Right to object \",\n",
       "       'Article 5 - Principles relating to processing of personal data , Article 6 - Lawfulness of processing , Article 7 - Conditions for consent , Article 21 - Right to object ',\n",
       "       'Article 5 - Principles relating to processing of personal data , Article 6 - Lawfulness of processing , Article 7 - Conditions for consent ',\n",
       "       'Article 5 - Principles relating to processing of personal data , Article 6 - Lawfulness of processing , Article 7 - Conditions for consent , Article 9 - Processing of special categories of personal data ',\n",
       "       'Article 5 - Principles relating to processing of personal data , Article 25 - Data protection by design and by default , Article 32 - Security of processing , Article 33 - Notification of a personal data breach to the supervisory authority ',\n",
       "       'Article 5 - Principles relating to processing of personal data , Article 6 - Lawfulness of processing , Article 21 - Right to object ',\n",
       "       \"Article 5 - Principles relating to processing of personal data , Article 6 - Lawfulness of processing , Article 17 - Right to erasure ('right to be forgotten') \",\n",
       "       'Article 6 - Lawfulness of processing , Article 21 - Right to object ',\n",
       "       'Article 33 - Notification of a personal data breach to the supervisory authority , Article 34 - Communication of a personal data breach to the data subject ',\n",
       "       'Article 5 - Principles relating to processing of personal data , Article 6 - Lawfulness of processing , Article 32 - Security of processing '],\n",
       "      dtype=object)"
      ]
     },
     "execution_count": 350,
     "metadata": {},
     "output_type": "execute_result"
    }
   ],
   "source": [
    "len(df2['article_violated'].unique())\n",
    "df2['article_violated'].unique()"
   ]
  },
  {
   "cell_type": "code",
   "execution_count": 351,
   "metadata": {},
   "outputs": [],
   "source": [
    "df2= df2[['summary', 'article_violated']]\n",
    "df2.rename(columns={'summary': 'text_segment', 'article_violated': 'articles'}, inplace=True)"
   ]
  },
  {
   "cell_type": "code",
   "execution_count": 352,
   "metadata": {},
   "outputs": [
    {
     "data": {
      "text/html": [
       "<div>\n",
       "<style scoped>\n",
       "    .dataframe tbody tr th:only-of-type {\n",
       "        vertical-align: middle;\n",
       "    }\n",
       "\n",
       "    .dataframe tbody tr th {\n",
       "        vertical-align: top;\n",
       "    }\n",
       "\n",
       "    .dataframe thead th {\n",
       "        text-align: right;\n",
       "    }\n",
       "</style>\n",
       "<table border=\"1\" class=\"dataframe\">\n",
       "  <thead>\n",
       "    <tr style=\"text-align: right;\">\n",
       "      <th></th>\n",
       "      <th>text_segment</th>\n",
       "      <th>articles</th>\n",
       "      <th>compliance</th>\n",
       "    </tr>\n",
       "  </thead>\n",
       "  <tbody>\n",
       "    <tr>\n",
       "      <th>0</th>\n",
       "      <td>No data processing agreement has been conclude...</td>\n",
       "      <td>Article 28 - Processor</td>\n",
       "      <td>non-compliant</td>\n",
       "    </tr>\n",
       "    <tr>\n",
       "      <th>1</th>\n",
       "      <td>A controller was sanctioned because he had unl...</td>\n",
       "      <td>Article 12 - Transparent information, communic...</td>\n",
       "      <td>non-compliant</td>\n",
       "    </tr>\n",
       "    <tr>\n",
       "      <th>2</th>\n",
       "      <td>The company had unlawfully processed the perso...</td>\n",
       "      <td>Article 5 - Principles relating to processing ...</td>\n",
       "      <td>non-compliant</td>\n",
       "    </tr>\n",
       "    <tr>\n",
       "      <th>3</th>\n",
       "      <td>Iberdrola Clientes violated Article 13 of the ...</td>\n",
       "      <td>Article 31 - Cooperation with the supervisory ...</td>\n",
       "      <td>non-compliant</td>\n",
       "    </tr>\n",
       "    <tr>\n",
       "      <th>4</th>\n",
       "      <td>Raiffeisen Bank Romania did not observe the ne...</td>\n",
       "      <td>Article 32 - Security of processing</td>\n",
       "      <td>non-compliant</td>\n",
       "    </tr>\n",
       "  </tbody>\n",
       "</table>\n",
       "</div>"
      ],
      "text/plain": [
       "                                        text_segment  \\\n",
       "0  No data processing agreement has been conclude...   \n",
       "1  A controller was sanctioned because he had unl...   \n",
       "2  The company had unlawfully processed the perso...   \n",
       "3  Iberdrola Clientes violated Article 13 of the ...   \n",
       "4  Raiffeisen Bank Romania did not observe the ne...   \n",
       "\n",
       "                                            articles     compliance  \n",
       "0                            Article 28 - Processor   non-compliant  \n",
       "1  Article 12 - Transparent information, communic...  non-compliant  \n",
       "2  Article 5 - Principles relating to processing ...  non-compliant  \n",
       "3  Article 31 - Cooperation with the supervisory ...  non-compliant  \n",
       "4               Article 32 - Security of processing   non-compliant  "
      ]
     },
     "execution_count": 352,
     "metadata": {},
     "output_type": "execute_result"
    }
   ],
   "source": [
    "df2['compliance'] = 'non-compliant'\n",
    "df2.head()"
   ]
  },
  {
   "cell_type": "code",
   "execution_count": 353,
   "metadata": {},
   "outputs": [],
   "source": [
    "df2.to_csv('../data/fine_tuning/gdpr_violations_preprocessed.csv', index=False)"
   ]
  }
 ],
 "metadata": {
  "kernelspec": {
   "display_name": "venv",
   "language": "python",
   "name": "python3"
  },
  "language_info": {
   "codemirror_mode": {
    "name": "ipython",
    "version": 3
   },
   "file_extension": ".py",
   "mimetype": "text/x-python",
   "name": "python",
   "nbconvert_exporter": "python",
   "pygments_lexer": "ipython3",
   "version": "3.10.15"
  }
 },
 "nbformat": 4,
 "nbformat_minor": 2
}
